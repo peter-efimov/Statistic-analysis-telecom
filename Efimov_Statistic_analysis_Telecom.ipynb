{
 "cells": [
  {
   "cell_type": "markdown",
   "metadata": {},
   "source": [
    "## Статистический анализ данных\n",
    "## Проект для телеком компании"
   ]
  },
  {
   "cell_type": "markdown",
   "metadata": {},
   "source": [
    "### Загрузка и предобработка данных (Шаг 1)"
   ]
  },
  {
   "cell_type": "code",
   "execution_count": 949,
   "metadata": {},
   "outputs": [],
   "source": [
    "import pandas as pd\n",
    "import matplotlib.pyplot as plt\n",
    "import numpy as np\n",
    "import math\n",
    "from scipy import stats as st"
   ]
  },
  {
   "cell_type": "markdown",
   "metadata": {},
   "source": [
    "Далее поочерёдно импортируем датасеты и оцениваем их. Для каждого датасета напечатаем первые 10 строк и посмотрим информацию. Проверим дубликаты."
   ]
  },
  {
   "cell_type": "code",
   "execution_count": 950,
   "metadata": {},
   "outputs": [
    {
     "data": {
      "text/html": [
       "<div>\n",
       "<style scoped>\n",
       "    .dataframe tbody tr th:only-of-type {\n",
       "        vertical-align: middle;\n",
       "    }\n",
       "\n",
       "    .dataframe tbody tr th {\n",
       "        vertical-align: top;\n",
       "    }\n",
       "\n",
       "    .dataframe thead th {\n",
       "        text-align: right;\n",
       "    }\n",
       "</style>\n",
       "<table border=\"1\" class=\"dataframe\">\n",
       "  <thead>\n",
       "    <tr style=\"text-align: right;\">\n",
       "      <th></th>\n",
       "      <th>id</th>\n",
       "      <th>call_date</th>\n",
       "      <th>duration</th>\n",
       "      <th>user_id</th>\n",
       "    </tr>\n",
       "  </thead>\n",
       "  <tbody>\n",
       "    <tr>\n",
       "      <th>0</th>\n",
       "      <td>1000_0</td>\n",
       "      <td>2018-07-25</td>\n",
       "      <td>0.00</td>\n",
       "      <td>1000</td>\n",
       "    </tr>\n",
       "    <tr>\n",
       "      <th>1</th>\n",
       "      <td>1000_1</td>\n",
       "      <td>2018-08-17</td>\n",
       "      <td>0.00</td>\n",
       "      <td>1000</td>\n",
       "    </tr>\n",
       "    <tr>\n",
       "      <th>2</th>\n",
       "      <td>1000_2</td>\n",
       "      <td>2018-06-11</td>\n",
       "      <td>2.85</td>\n",
       "      <td>1000</td>\n",
       "    </tr>\n",
       "    <tr>\n",
       "      <th>3</th>\n",
       "      <td>1000_3</td>\n",
       "      <td>2018-09-21</td>\n",
       "      <td>13.80</td>\n",
       "      <td>1000</td>\n",
       "    </tr>\n",
       "    <tr>\n",
       "      <th>4</th>\n",
       "      <td>1000_4</td>\n",
       "      <td>2018-12-15</td>\n",
       "      <td>5.18</td>\n",
       "      <td>1000</td>\n",
       "    </tr>\n",
       "    <tr>\n",
       "      <th>5</th>\n",
       "      <td>1000_5</td>\n",
       "      <td>2018-11-02</td>\n",
       "      <td>0.00</td>\n",
       "      <td>1000</td>\n",
       "    </tr>\n",
       "    <tr>\n",
       "      <th>6</th>\n",
       "      <td>1000_6</td>\n",
       "      <td>2018-10-18</td>\n",
       "      <td>0.00</td>\n",
       "      <td>1000</td>\n",
       "    </tr>\n",
       "    <tr>\n",
       "      <th>7</th>\n",
       "      <td>1000_7</td>\n",
       "      <td>2018-08-22</td>\n",
       "      <td>18.31</td>\n",
       "      <td>1000</td>\n",
       "    </tr>\n",
       "    <tr>\n",
       "      <th>8</th>\n",
       "      <td>1000_8</td>\n",
       "      <td>2018-09-15</td>\n",
       "      <td>18.44</td>\n",
       "      <td>1000</td>\n",
       "    </tr>\n",
       "    <tr>\n",
       "      <th>9</th>\n",
       "      <td>1000_9</td>\n",
       "      <td>2018-08-15</td>\n",
       "      <td>0.00</td>\n",
       "      <td>1000</td>\n",
       "    </tr>\n",
       "  </tbody>\n",
       "</table>\n",
       "</div>"
      ],
      "text/plain": [
       "       id   call_date  duration  user_id\n",
       "0  1000_0  2018-07-25      0.00     1000\n",
       "1  1000_1  2018-08-17      0.00     1000\n",
       "2  1000_2  2018-06-11      2.85     1000\n",
       "3  1000_3  2018-09-21     13.80     1000\n",
       "4  1000_4  2018-12-15      5.18     1000\n",
       "5  1000_5  2018-11-02      0.00     1000\n",
       "6  1000_6  2018-10-18      0.00     1000\n",
       "7  1000_7  2018-08-22     18.31     1000\n",
       "8  1000_8  2018-09-15     18.44     1000\n",
       "9  1000_9  2018-08-15      0.00     1000"
      ]
     },
     "execution_count": 950,
     "metadata": {},
     "output_type": "execute_result"
    }
   ],
   "source": [
    "# Загрузим звонки\n",
    "data_calls = pd.read_csv('/Users/peterefimov/Documents/datasets/calls.csv')\n",
    "data_calls.head(10)"
   ]
  },
  {
   "cell_type": "code",
   "execution_count": 951,
   "metadata": {
    "scrolled": true
   },
   "outputs": [
    {
     "name": "stdout",
     "output_type": "stream",
     "text": [
      "<class 'pandas.core.frame.DataFrame'>\n",
      "RangeIndex: 202607 entries, 0 to 202606\n",
      "Data columns (total 4 columns):\n",
      " #   Column     Non-Null Count   Dtype  \n",
      "---  ------     --------------   -----  \n",
      " 0   id         202607 non-null  object \n",
      " 1   call_date  202607 non-null  object \n",
      " 2   duration   202607 non-null  float64\n",
      " 3   user_id    202607 non-null  int64  \n",
      "dtypes: float64(1), int64(1), object(2)\n",
      "memory usage: 6.2+ MB\n"
     ]
    }
   ],
   "source": [
    "data_calls.info()"
   ]
  },
  {
   "cell_type": "markdown",
   "metadata": {},
   "source": [
    "В данных о звонках есть значения с длительностью звонка 0.0 минут. В задании указано, что любой звонок длительностью хоть 1 секунду округляется до минуты. Значит, звонка с длительность 0.0 минут фактически не состоялось. Это может быть пропущенный, сброшенный звонок, случайный набор номера или что-то ещё. Вряд ли такой звонок можно считать сознательно инициированным или принятым пользователем. Так как такой звонок не расходует лимит минут и не может быть оплачен сверх лимита, для данного исследования можно считать такие звонки неактуальными. \n",
    "\n",
    "Избавимся от этих звонков."
   ]
  },
  {
   "cell_type": "code",
   "execution_count": 952,
   "metadata": {},
   "outputs": [
    {
     "data": {
      "text/html": [
       "<div>\n",
       "<style scoped>\n",
       "    .dataframe tbody tr th:only-of-type {\n",
       "        vertical-align: middle;\n",
       "    }\n",
       "\n",
       "    .dataframe tbody tr th {\n",
       "        vertical-align: top;\n",
       "    }\n",
       "\n",
       "    .dataframe thead th {\n",
       "        text-align: right;\n",
       "    }\n",
       "</style>\n",
       "<table border=\"1\" class=\"dataframe\">\n",
       "  <thead>\n",
       "    <tr style=\"text-align: right;\">\n",
       "      <th></th>\n",
       "      <th>id</th>\n",
       "      <th>call_date</th>\n",
       "      <th>duration</th>\n",
       "      <th>user_id</th>\n",
       "    </tr>\n",
       "  </thead>\n",
       "  <tbody>\n",
       "    <tr>\n",
       "      <th>2</th>\n",
       "      <td>1000_2</td>\n",
       "      <td>2018-06-11</td>\n",
       "      <td>2.85</td>\n",
       "      <td>1000</td>\n",
       "    </tr>\n",
       "    <tr>\n",
       "      <th>3</th>\n",
       "      <td>1000_3</td>\n",
       "      <td>2018-09-21</td>\n",
       "      <td>13.80</td>\n",
       "      <td>1000</td>\n",
       "    </tr>\n",
       "    <tr>\n",
       "      <th>4</th>\n",
       "      <td>1000_4</td>\n",
       "      <td>2018-12-15</td>\n",
       "      <td>5.18</td>\n",
       "      <td>1000</td>\n",
       "    </tr>\n",
       "    <tr>\n",
       "      <th>7</th>\n",
       "      <td>1000_7</td>\n",
       "      <td>2018-08-22</td>\n",
       "      <td>18.31</td>\n",
       "      <td>1000</td>\n",
       "    </tr>\n",
       "    <tr>\n",
       "      <th>8</th>\n",
       "      <td>1000_8</td>\n",
       "      <td>2018-09-15</td>\n",
       "      <td>18.44</td>\n",
       "      <td>1000</td>\n",
       "    </tr>\n",
       "    <tr>\n",
       "      <th>10</th>\n",
       "      <td>1000_10</td>\n",
       "      <td>2018-08-22</td>\n",
       "      <td>5.03</td>\n",
       "      <td>1000</td>\n",
       "    </tr>\n",
       "    <tr>\n",
       "      <th>11</th>\n",
       "      <td>1000_11</td>\n",
       "      <td>2018-05-28</td>\n",
       "      <td>18.82</td>\n",
       "      <td>1000</td>\n",
       "    </tr>\n",
       "    <tr>\n",
       "      <th>12</th>\n",
       "      <td>1000_12</td>\n",
       "      <td>2018-07-05</td>\n",
       "      <td>2.02</td>\n",
       "      <td>1000</td>\n",
       "    </tr>\n",
       "    <tr>\n",
       "      <th>13</th>\n",
       "      <td>1000_13</td>\n",
       "      <td>2018-09-29</td>\n",
       "      <td>7.15</td>\n",
       "      <td>1000</td>\n",
       "    </tr>\n",
       "    <tr>\n",
       "      <th>14</th>\n",
       "      <td>1000_14</td>\n",
       "      <td>2018-12-11</td>\n",
       "      <td>9.13</td>\n",
       "      <td>1000</td>\n",
       "    </tr>\n",
       "  </tbody>\n",
       "</table>\n",
       "</div>"
      ],
      "text/plain": [
       "         id   call_date  duration  user_id\n",
       "2    1000_2  2018-06-11      2.85     1000\n",
       "3    1000_3  2018-09-21     13.80     1000\n",
       "4    1000_4  2018-12-15      5.18     1000\n",
       "7    1000_7  2018-08-22     18.31     1000\n",
       "8    1000_8  2018-09-15     18.44     1000\n",
       "10  1000_10  2018-08-22      5.03     1000\n",
       "11  1000_11  2018-05-28     18.82     1000\n",
       "12  1000_12  2018-07-05      2.02     1000\n",
       "13  1000_13  2018-09-29      7.15     1000\n",
       "14  1000_14  2018-12-11      9.13     1000"
      ]
     },
     "execution_count": 952,
     "metadata": {},
     "output_type": "execute_result"
    }
   ],
   "source": [
    "# Переприсваиваем данные с условием, что длительность звонка не равна 0.0 минут\n",
    "data_calls = data_calls.query('duration != 0.0')\n",
    "data_calls.head(10)"
   ]
  },
  {
   "cell_type": "markdown",
   "metadata": {},
   "source": [
    "Согласно заданию звонки должны округляться в большую сторону до целой минуты. Применим округление вверх и заодно переведём данные в int для упрощения дальнейших вычислений."
   ]
  },
  {
   "cell_type": "code",
   "execution_count": 953,
   "metadata": {},
   "outputs": [
    {
     "name": "stdout",
     "output_type": "stream",
     "text": [
      "       id   call_date  duration  user_id\n",
      "2  1000_2  2018-06-11         3     1000\n",
      "3  1000_3  2018-09-21        14     1000\n",
      "4  1000_4  2018-12-15         6     1000\n",
      "7  1000_7  2018-08-22        19     1000\n",
      "8  1000_8  2018-09-15        19     1000\n",
      "<class 'pandas.core.frame.DataFrame'>\n",
      "Int64Index: 162994 entries, 2 to 202606\n",
      "Data columns (total 4 columns):\n",
      " #   Column     Non-Null Count   Dtype \n",
      "---  ------     --------------   ----- \n",
      " 0   id         162994 non-null  object\n",
      " 1   call_date  162994 non-null  object\n",
      " 2   duration   162994 non-null  int64 \n",
      " 3   user_id    162994 non-null  int64 \n",
      "dtypes: int64(2), object(2)\n",
      "memory usage: 6.2+ MB\n",
      "None\n"
     ]
    }
   ],
   "source": [
    "data_calls.loc[:, 'duration'] = data_calls.loc[:, 'duration'].apply(np.ceil).astype('int')\n",
    "\n",
    "# Выведем первые строки и проверим результат\n",
    "print(data_calls.head(5))\n",
    "print(data_calls.info())"
   ]
  },
  {
   "cell_type": "code",
   "execution_count": 954,
   "metadata": {
    "scrolled": true
   },
   "outputs": [
    {
     "data": {
      "text/html": [
       "<div>\n",
       "<style scoped>\n",
       "    .dataframe tbody tr th:only-of-type {\n",
       "        vertical-align: middle;\n",
       "    }\n",
       "\n",
       "    .dataframe tbody tr th {\n",
       "        vertical-align: top;\n",
       "    }\n",
       "\n",
       "    .dataframe thead th {\n",
       "        text-align: right;\n",
       "    }\n",
       "</style>\n",
       "<table border=\"1\" class=\"dataframe\">\n",
       "  <thead>\n",
       "    <tr style=\"text-align: right;\">\n",
       "      <th></th>\n",
       "      <th>Unnamed: 0</th>\n",
       "      <th>id</th>\n",
       "      <th>mb_used</th>\n",
       "      <th>session_date</th>\n",
       "      <th>user_id</th>\n",
       "    </tr>\n",
       "  </thead>\n",
       "  <tbody>\n",
       "    <tr>\n",
       "      <th>0</th>\n",
       "      <td>0</td>\n",
       "      <td>1000_0</td>\n",
       "      <td>112.95</td>\n",
       "      <td>2018-11-25</td>\n",
       "      <td>1000</td>\n",
       "    </tr>\n",
       "    <tr>\n",
       "      <th>1</th>\n",
       "      <td>1</td>\n",
       "      <td>1000_1</td>\n",
       "      <td>1052.81</td>\n",
       "      <td>2018-09-07</td>\n",
       "      <td>1000</td>\n",
       "    </tr>\n",
       "    <tr>\n",
       "      <th>2</th>\n",
       "      <td>2</td>\n",
       "      <td>1000_2</td>\n",
       "      <td>1197.26</td>\n",
       "      <td>2018-06-25</td>\n",
       "      <td>1000</td>\n",
       "    </tr>\n",
       "    <tr>\n",
       "      <th>3</th>\n",
       "      <td>3</td>\n",
       "      <td>1000_3</td>\n",
       "      <td>550.27</td>\n",
       "      <td>2018-08-22</td>\n",
       "      <td>1000</td>\n",
       "    </tr>\n",
       "    <tr>\n",
       "      <th>4</th>\n",
       "      <td>4</td>\n",
       "      <td>1000_4</td>\n",
       "      <td>302.56</td>\n",
       "      <td>2018-09-24</td>\n",
       "      <td>1000</td>\n",
       "    </tr>\n",
       "    <tr>\n",
       "      <th>5</th>\n",
       "      <td>5</td>\n",
       "      <td>1000_5</td>\n",
       "      <td>399.97</td>\n",
       "      <td>2018-10-02</td>\n",
       "      <td>1000</td>\n",
       "    </tr>\n",
       "    <tr>\n",
       "      <th>6</th>\n",
       "      <td>6</td>\n",
       "      <td>1000_6</td>\n",
       "      <td>540.08</td>\n",
       "      <td>2018-09-07</td>\n",
       "      <td>1000</td>\n",
       "    </tr>\n",
       "    <tr>\n",
       "      <th>7</th>\n",
       "      <td>7</td>\n",
       "      <td>1000_7</td>\n",
       "      <td>415.70</td>\n",
       "      <td>2018-07-11</td>\n",
       "      <td>1000</td>\n",
       "    </tr>\n",
       "    <tr>\n",
       "      <th>8</th>\n",
       "      <td>8</td>\n",
       "      <td>1000_8</td>\n",
       "      <td>505.40</td>\n",
       "      <td>2018-10-08</td>\n",
       "      <td>1000</td>\n",
       "    </tr>\n",
       "    <tr>\n",
       "      <th>9</th>\n",
       "      <td>9</td>\n",
       "      <td>1000_9</td>\n",
       "      <td>345.54</td>\n",
       "      <td>2018-09-03</td>\n",
       "      <td>1000</td>\n",
       "    </tr>\n",
       "  </tbody>\n",
       "</table>\n",
       "</div>"
      ],
      "text/plain": [
       "   Unnamed: 0      id  mb_used session_date  user_id\n",
       "0           0  1000_0   112.95   2018-11-25     1000\n",
       "1           1  1000_1  1052.81   2018-09-07     1000\n",
       "2           2  1000_2  1197.26   2018-06-25     1000\n",
       "3           3  1000_3   550.27   2018-08-22     1000\n",
       "4           4  1000_4   302.56   2018-09-24     1000\n",
       "5           5  1000_5   399.97   2018-10-02     1000\n",
       "6           6  1000_6   540.08   2018-09-07     1000\n",
       "7           7  1000_7   415.70   2018-07-11     1000\n",
       "8           8  1000_8   505.40   2018-10-08     1000\n",
       "9           9  1000_9   345.54   2018-09-03     1000"
      ]
     },
     "execution_count": 954,
     "metadata": {},
     "output_type": "execute_result"
    }
   ],
   "source": [
    "# Загрузим данные об интернет-трафике\n",
    "\n",
    "data_internet = pd.read_csv('/Users/peterefimov/Documents/datasets/internet.csv')\n",
    "data_internet.head(10)"
   ]
  },
  {
   "cell_type": "code",
   "execution_count": 955,
   "metadata": {
    "scrolled": true
   },
   "outputs": [
    {
     "name": "stdout",
     "output_type": "stream",
     "text": [
      "<class 'pandas.core.frame.DataFrame'>\n",
      "RangeIndex: 149396 entries, 0 to 149395\n",
      "Data columns (total 5 columns):\n",
      " #   Column        Non-Null Count   Dtype  \n",
      "---  ------        --------------   -----  \n",
      " 0   Unnamed: 0    149396 non-null  int64  \n",
      " 1   id            149396 non-null  object \n",
      " 2   mb_used       149396 non-null  float64\n",
      " 3   session_date  149396 non-null  object \n",
      " 4   user_id       149396 non-null  int64  \n",
      "dtypes: float64(1), int64(2), object(2)\n",
      "memory usage: 5.7+ MB\n"
     ]
    }
   ],
   "source": [
    "data_internet.info()"
   ]
  },
  {
   "cell_type": "markdown",
   "metadata": {},
   "source": [
    "Согласно заданию использованные мегабайты должны округляться в большую сторону до целого числа. Применим округление вверх и заодно переведём данные в int для упрощения дальнейших вычислений."
   ]
  },
  {
   "cell_type": "code",
   "execution_count": 956,
   "metadata": {
    "scrolled": true
   },
   "outputs": [
    {
     "name": "stdout",
     "output_type": "stream",
     "text": [
      "   Unnamed: 0      id  mb_used session_date  user_id\n",
      "0           0  1000_0      113   2018-11-25     1000\n",
      "1           1  1000_1     1053   2018-09-07     1000\n",
      "2           2  1000_2     1198   2018-06-25     1000\n",
      "3           3  1000_3      551   2018-08-22     1000\n",
      "4           4  1000_4      303   2018-09-24     1000\n",
      "<class 'pandas.core.frame.DataFrame'>\n",
      "RangeIndex: 149396 entries, 0 to 149395\n",
      "Data columns (total 5 columns):\n",
      " #   Column        Non-Null Count   Dtype \n",
      "---  ------        --------------   ----- \n",
      " 0   Unnamed: 0    149396 non-null  int64 \n",
      " 1   id            149396 non-null  object\n",
      " 2   mb_used       149396 non-null  int64 \n",
      " 3   session_date  149396 non-null  object\n",
      " 4   user_id       149396 non-null  int64 \n",
      "dtypes: int64(3), object(2)\n",
      "memory usage: 5.7+ MB\n",
      "None\n"
     ]
    }
   ],
   "source": [
    "data_internet.loc[:, 'mb_used'] = data_internet.loc[:, 'mb_used'].apply(np.ceil).astype('int')\n",
    "\n",
    "# Выведем первые строки и проверим результат\n",
    "print(data_internet.head(5))\n",
    "print(data_internet.info())"
   ]
  },
  {
   "cell_type": "code",
   "execution_count": 957,
   "metadata": {},
   "outputs": [
    {
     "data": {
      "text/html": [
       "<div>\n",
       "<style scoped>\n",
       "    .dataframe tbody tr th:only-of-type {\n",
       "        vertical-align: middle;\n",
       "    }\n",
       "\n",
       "    .dataframe tbody tr th {\n",
       "        vertical-align: top;\n",
       "    }\n",
       "\n",
       "    .dataframe thead th {\n",
       "        text-align: right;\n",
       "    }\n",
       "</style>\n",
       "<table border=\"1\" class=\"dataframe\">\n",
       "  <thead>\n",
       "    <tr style=\"text-align: right;\">\n",
       "      <th></th>\n",
       "      <th>id</th>\n",
       "      <th>message_date</th>\n",
       "      <th>user_id</th>\n",
       "    </tr>\n",
       "  </thead>\n",
       "  <tbody>\n",
       "    <tr>\n",
       "      <th>0</th>\n",
       "      <td>1000_0</td>\n",
       "      <td>2018-06-27</td>\n",
       "      <td>1000</td>\n",
       "    </tr>\n",
       "    <tr>\n",
       "      <th>1</th>\n",
       "      <td>1000_1</td>\n",
       "      <td>2018-10-08</td>\n",
       "      <td>1000</td>\n",
       "    </tr>\n",
       "    <tr>\n",
       "      <th>2</th>\n",
       "      <td>1000_2</td>\n",
       "      <td>2018-08-04</td>\n",
       "      <td>1000</td>\n",
       "    </tr>\n",
       "    <tr>\n",
       "      <th>3</th>\n",
       "      <td>1000_3</td>\n",
       "      <td>2018-06-16</td>\n",
       "      <td>1000</td>\n",
       "    </tr>\n",
       "    <tr>\n",
       "      <th>4</th>\n",
       "      <td>1000_4</td>\n",
       "      <td>2018-12-05</td>\n",
       "      <td>1000</td>\n",
       "    </tr>\n",
       "    <tr>\n",
       "      <th>5</th>\n",
       "      <td>1000_5</td>\n",
       "      <td>2018-06-20</td>\n",
       "      <td>1000</td>\n",
       "    </tr>\n",
       "    <tr>\n",
       "      <th>6</th>\n",
       "      <td>1000_6</td>\n",
       "      <td>2018-11-19</td>\n",
       "      <td>1000</td>\n",
       "    </tr>\n",
       "    <tr>\n",
       "      <th>7</th>\n",
       "      <td>1000_7</td>\n",
       "      <td>2018-10-29</td>\n",
       "      <td>1000</td>\n",
       "    </tr>\n",
       "    <tr>\n",
       "      <th>8</th>\n",
       "      <td>1000_8</td>\n",
       "      <td>2018-06-25</td>\n",
       "      <td>1000</td>\n",
       "    </tr>\n",
       "    <tr>\n",
       "      <th>9</th>\n",
       "      <td>1000_9</td>\n",
       "      <td>2018-12-18</td>\n",
       "      <td>1000</td>\n",
       "    </tr>\n",
       "  </tbody>\n",
       "</table>\n",
       "</div>"
      ],
      "text/plain": [
       "       id message_date  user_id\n",
       "0  1000_0   2018-06-27     1000\n",
       "1  1000_1   2018-10-08     1000\n",
       "2  1000_2   2018-08-04     1000\n",
       "3  1000_3   2018-06-16     1000\n",
       "4  1000_4   2018-12-05     1000\n",
       "5  1000_5   2018-06-20     1000\n",
       "6  1000_6   2018-11-19     1000\n",
       "7  1000_7   2018-10-29     1000\n",
       "8  1000_8   2018-06-25     1000\n",
       "9  1000_9   2018-12-18     1000"
      ]
     },
     "execution_count": 957,
     "metadata": {},
     "output_type": "execute_result"
    }
   ],
   "source": [
    "# Загрузим данные о смс-сообщениях\n",
    "\n",
    "data_messages = pd.read_csv('/Users/peterefimov/Documents/datasets/messages.csv')\n",
    "data_messages.head(10)"
   ]
  },
  {
   "cell_type": "code",
   "execution_count": 958,
   "metadata": {},
   "outputs": [
    {
     "name": "stdout",
     "output_type": "stream",
     "text": [
      "<class 'pandas.core.frame.DataFrame'>\n",
      "RangeIndex: 123036 entries, 0 to 123035\n",
      "Data columns (total 3 columns):\n",
      " #   Column        Non-Null Count   Dtype \n",
      "---  ------        --------------   ----- \n",
      " 0   id            123036 non-null  object\n",
      " 1   message_date  123036 non-null  object\n",
      " 2   user_id       123036 non-null  int64 \n",
      "dtypes: int64(1), object(2)\n",
      "memory usage: 2.8+ MB\n"
     ]
    }
   ],
   "source": [
    "data_messages.info()"
   ]
  },
  {
   "cell_type": "code",
   "execution_count": 959,
   "metadata": {},
   "outputs": [
    {
     "data": {
      "text/html": [
       "<div>\n",
       "<style scoped>\n",
       "    .dataframe tbody tr th:only-of-type {\n",
       "        vertical-align: middle;\n",
       "    }\n",
       "\n",
       "    .dataframe tbody tr th {\n",
       "        vertical-align: top;\n",
       "    }\n",
       "\n",
       "    .dataframe thead th {\n",
       "        text-align: right;\n",
       "    }\n",
       "</style>\n",
       "<table border=\"1\" class=\"dataframe\">\n",
       "  <thead>\n",
       "    <tr style=\"text-align: right;\">\n",
       "      <th></th>\n",
       "      <th>messages_included</th>\n",
       "      <th>mb_per_month_included</th>\n",
       "      <th>minutes_included</th>\n",
       "      <th>rub_monthly_fee</th>\n",
       "      <th>rub_per_gb</th>\n",
       "      <th>rub_per_message</th>\n",
       "      <th>rub_per_minute</th>\n",
       "      <th>tariff_name</th>\n",
       "    </tr>\n",
       "  </thead>\n",
       "  <tbody>\n",
       "    <tr>\n",
       "      <th>0</th>\n",
       "      <td>50</td>\n",
       "      <td>15360</td>\n",
       "      <td>500</td>\n",
       "      <td>550</td>\n",
       "      <td>200</td>\n",
       "      <td>3</td>\n",
       "      <td>3</td>\n",
       "      <td>smart</td>\n",
       "    </tr>\n",
       "    <tr>\n",
       "      <th>1</th>\n",
       "      <td>1000</td>\n",
       "      <td>30720</td>\n",
       "      <td>3000</td>\n",
       "      <td>1950</td>\n",
       "      <td>150</td>\n",
       "      <td>1</td>\n",
       "      <td>1</td>\n",
       "      <td>ultra</td>\n",
       "    </tr>\n",
       "  </tbody>\n",
       "</table>\n",
       "</div>"
      ],
      "text/plain": [
       "   messages_included  mb_per_month_included  minutes_included  \\\n",
       "0                 50                  15360               500   \n",
       "1               1000                  30720              3000   \n",
       "\n",
       "   rub_monthly_fee  rub_per_gb  rub_per_message  rub_per_minute tariff_name  \n",
       "0              550         200                3               3       smart  \n",
       "1             1950         150                1               1       ultra  "
      ]
     },
     "execution_count": 959,
     "metadata": {},
     "output_type": "execute_result"
    }
   ],
   "source": [
    "data_tariffs = pd.read_csv('/Users/peterefimov/Documents/datasets/tariffs.csv')\n",
    "data_tariffs"
   ]
  },
  {
   "cell_type": "code",
   "execution_count": 960,
   "metadata": {},
   "outputs": [
    {
     "data": {
      "text/html": [
       "<div>\n",
       "<style scoped>\n",
       "    .dataframe tbody tr th:only-of-type {\n",
       "        vertical-align: middle;\n",
       "    }\n",
       "\n",
       "    .dataframe tbody tr th {\n",
       "        vertical-align: top;\n",
       "    }\n",
       "\n",
       "    .dataframe thead th {\n",
       "        text-align: right;\n",
       "    }\n",
       "</style>\n",
       "<table border=\"1\" class=\"dataframe\">\n",
       "  <thead>\n",
       "    <tr style=\"text-align: right;\">\n",
       "      <th></th>\n",
       "      <th>user_id</th>\n",
       "      <th>age</th>\n",
       "      <th>churn_date</th>\n",
       "      <th>city</th>\n",
       "      <th>first_name</th>\n",
       "      <th>last_name</th>\n",
       "      <th>reg_date</th>\n",
       "      <th>tariff</th>\n",
       "    </tr>\n",
       "  </thead>\n",
       "  <tbody>\n",
       "    <tr>\n",
       "      <th>0</th>\n",
       "      <td>1000</td>\n",
       "      <td>52</td>\n",
       "      <td>NaN</td>\n",
       "      <td>Краснодар</td>\n",
       "      <td>Рафаил</td>\n",
       "      <td>Верещагин</td>\n",
       "      <td>2018-05-25</td>\n",
       "      <td>ultra</td>\n",
       "    </tr>\n",
       "    <tr>\n",
       "      <th>1</th>\n",
       "      <td>1001</td>\n",
       "      <td>41</td>\n",
       "      <td>NaN</td>\n",
       "      <td>Москва</td>\n",
       "      <td>Иван</td>\n",
       "      <td>Ежов</td>\n",
       "      <td>2018-11-01</td>\n",
       "      <td>smart</td>\n",
       "    </tr>\n",
       "    <tr>\n",
       "      <th>2</th>\n",
       "      <td>1002</td>\n",
       "      <td>59</td>\n",
       "      <td>NaN</td>\n",
       "      <td>Стерлитамак</td>\n",
       "      <td>Евгений</td>\n",
       "      <td>Абрамович</td>\n",
       "      <td>2018-06-17</td>\n",
       "      <td>smart</td>\n",
       "    </tr>\n",
       "    <tr>\n",
       "      <th>3</th>\n",
       "      <td>1003</td>\n",
       "      <td>23</td>\n",
       "      <td>NaN</td>\n",
       "      <td>Москва</td>\n",
       "      <td>Белла</td>\n",
       "      <td>Белякова</td>\n",
       "      <td>2018-08-17</td>\n",
       "      <td>ultra</td>\n",
       "    </tr>\n",
       "    <tr>\n",
       "      <th>4</th>\n",
       "      <td>1004</td>\n",
       "      <td>68</td>\n",
       "      <td>NaN</td>\n",
       "      <td>Новокузнецк</td>\n",
       "      <td>Татьяна</td>\n",
       "      <td>Авдеенко</td>\n",
       "      <td>2018-05-14</td>\n",
       "      <td>ultra</td>\n",
       "    </tr>\n",
       "    <tr>\n",
       "      <th>5</th>\n",
       "      <td>1005</td>\n",
       "      <td>67</td>\n",
       "      <td>NaN</td>\n",
       "      <td>Набережные Челны</td>\n",
       "      <td>Афанасий</td>\n",
       "      <td>Горлов</td>\n",
       "      <td>2018-01-25</td>\n",
       "      <td>smart</td>\n",
       "    </tr>\n",
       "    <tr>\n",
       "      <th>6</th>\n",
       "      <td>1006</td>\n",
       "      <td>21</td>\n",
       "      <td>NaN</td>\n",
       "      <td>Ульяновск</td>\n",
       "      <td>Леонид</td>\n",
       "      <td>Ермолаев</td>\n",
       "      <td>2018-02-26</td>\n",
       "      <td>smart</td>\n",
       "    </tr>\n",
       "    <tr>\n",
       "      <th>7</th>\n",
       "      <td>1007</td>\n",
       "      <td>65</td>\n",
       "      <td>NaN</td>\n",
       "      <td>Москва</td>\n",
       "      <td>Юна</td>\n",
       "      <td>Березина</td>\n",
       "      <td>2018-04-19</td>\n",
       "      <td>smart</td>\n",
       "    </tr>\n",
       "    <tr>\n",
       "      <th>8</th>\n",
       "      <td>1008</td>\n",
       "      <td>63</td>\n",
       "      <td>NaN</td>\n",
       "      <td>Челябинск</td>\n",
       "      <td>Рустэм</td>\n",
       "      <td>Пономарёв</td>\n",
       "      <td>2018-12-19</td>\n",
       "      <td>smart</td>\n",
       "    </tr>\n",
       "    <tr>\n",
       "      <th>9</th>\n",
       "      <td>1009</td>\n",
       "      <td>24</td>\n",
       "      <td>NaN</td>\n",
       "      <td>Пермь</td>\n",
       "      <td>Василиса</td>\n",
       "      <td>Блинова</td>\n",
       "      <td>2018-03-22</td>\n",
       "      <td>smart</td>\n",
       "    </tr>\n",
       "  </tbody>\n",
       "</table>\n",
       "</div>"
      ],
      "text/plain": [
       "   user_id  age churn_date              city first_name  last_name  \\\n",
       "0     1000   52        NaN         Краснодар     Рафаил  Верещагин   \n",
       "1     1001   41        NaN            Москва       Иван       Ежов   \n",
       "2     1002   59        NaN       Стерлитамак    Евгений  Абрамович   \n",
       "3     1003   23        NaN            Москва      Белла   Белякова   \n",
       "4     1004   68        NaN       Новокузнецк    Татьяна   Авдеенко   \n",
       "5     1005   67        NaN  Набережные Челны   Афанасий     Горлов   \n",
       "6     1006   21        NaN         Ульяновск     Леонид   Ермолаев   \n",
       "7     1007   65        NaN            Москва        Юна   Березина   \n",
       "8     1008   63        NaN         Челябинск     Рустэм  Пономарёв   \n",
       "9     1009   24        NaN             Пермь   Василиса    Блинова   \n",
       "\n",
       "     reg_date tariff  \n",
       "0  2018-05-25  ultra  \n",
       "1  2018-11-01  smart  \n",
       "2  2018-06-17  smart  \n",
       "3  2018-08-17  ultra  \n",
       "4  2018-05-14  ultra  \n",
       "5  2018-01-25  smart  \n",
       "6  2018-02-26  smart  \n",
       "7  2018-04-19  smart  \n",
       "8  2018-12-19  smart  \n",
       "9  2018-03-22  smart  "
      ]
     },
     "execution_count": 960,
     "metadata": {},
     "output_type": "execute_result"
    }
   ],
   "source": [
    "data_users = pd.read_csv('/Users/peterefimov/Documents/datasets/users.csv')\n",
    "data_users.head(10)"
   ]
  },
  {
   "cell_type": "code",
   "execution_count": 961,
   "metadata": {},
   "outputs": [
    {
     "name": "stdout",
     "output_type": "stream",
     "text": [
      "<class 'pandas.core.frame.DataFrame'>\n",
      "RangeIndex: 500 entries, 0 to 499\n",
      "Data columns (total 8 columns):\n",
      " #   Column      Non-Null Count  Dtype \n",
      "---  ------      --------------  ----- \n",
      " 0   user_id     500 non-null    int64 \n",
      " 1   age         500 non-null    int64 \n",
      " 2   churn_date  38 non-null     object\n",
      " 3   city        500 non-null    object\n",
      " 4   first_name  500 non-null    object\n",
      " 5   last_name   500 non-null    object\n",
      " 6   reg_date    500 non-null    object\n",
      " 7   tariff      500 non-null    object\n",
      "dtypes: int64(2), object(6)\n",
      "memory usage: 31.4+ KB\n"
     ]
    }
   ],
   "source": [
    "data_users.info()"
   ]
  },
  {
   "cell_type": "code",
   "execution_count": 962,
   "metadata": {},
   "outputs": [
    {
     "name": "stdout",
     "output_type": "stream",
     "text": [
      "0\n",
      "0\n",
      "0\n",
      "0\n"
     ]
    }
   ],
   "source": [
    "print(data_calls.duplicated().sum())\n",
    "print(data_internet.duplicated().sum())\n",
    "print(data_messages.duplicated().sum())\n",
    "print(data_users.duplicated().sum())"
   ]
  },
  {
   "cell_type": "markdown",
   "metadata": {},
   "source": [
    "Внешне данные выглядят качественными: нет пропущенных значений, нет явных дубликатов. \n",
    "\n",
    "Пропуски в данных churn_date объясняется тем, что тариф ещё действует - это указано в задании.\n",
    "\n",
    "Теперь переведём даты в формат datetime:"
   ]
  },
  {
   "cell_type": "code",
   "execution_count": 963,
   "metadata": {},
   "outputs": [],
   "source": [
    "data_calls.loc[:, 'call_date'] = pd.to_datetime(\n",
    "    data_calls['call_date'],\n",
    "    format='%Y-%m-%d')\n",
    "\n",
    "data_internet.loc[:, 'session_date'] = pd.to_datetime(\n",
    "    data_internet['session_date'],\n",
    "    format='%Y-%m-%d')\n",
    "\n",
    "data_messages.loc[:, 'message_date'] = pd.to_datetime(\n",
    "    data_messages['message_date'],\n",
    "    format='%Y-%m-%d')\n",
    "\n",
    "data_users.loc[:, 'reg_date'] = pd.to_datetime(\n",
    "    data_users['reg_date'],\n",
    "    format='%Y-%m-%d')\n",
    "\n",
    "data_users.loc[:, 'churn_date'] = pd.to_datetime(\n",
    "    data_users['churn_date'],\n",
    "    format='%Y-%m-%d')"
   ]
  },
  {
   "cell_type": "markdown",
   "metadata": {},
   "source": [
    "### Вывод по предобработке (Шагу 1)\n",
    "\n",
    "1. Данные загружены.\n",
    "2. Проверены дубликаты.\n",
    "3. Изучены пропуски.\n",
    "4. Удалены нулевые значения, не влияющие не исследование.\n",
    "5. Данные приведены к нужным типам.\n",
    "6. Нужные параметры округлены согласно заданию."
   ]
  },
  {
   "cell_type": "markdown",
   "metadata": {},
   "source": [
    "### Подготовка данных и расчёт новых значений (Шаг 2)"
   ]
  },
  {
   "cell_type": "markdown",
   "metadata": {},
   "source": [
    "Так как требуется помесячный анализ, выделим столбец \"месяц\" для каждого набора данных"
   ]
  },
  {
   "cell_type": "code",
   "execution_count": 964,
   "metadata": {},
   "outputs": [
    {
     "data": {
      "text/html": [
       "<div>\n",
       "<style scoped>\n",
       "    .dataframe tbody tr th:only-of-type {\n",
       "        vertical-align: middle;\n",
       "    }\n",
       "\n",
       "    .dataframe tbody tr th {\n",
       "        vertical-align: top;\n",
       "    }\n",
       "\n",
       "    .dataframe thead th {\n",
       "        text-align: right;\n",
       "    }\n",
       "</style>\n",
       "<table border=\"1\" class=\"dataframe\">\n",
       "  <thead>\n",
       "    <tr style=\"text-align: right;\">\n",
       "      <th></th>\n",
       "      <th>id</th>\n",
       "      <th>call_date</th>\n",
       "      <th>duration</th>\n",
       "      <th>user_id</th>\n",
       "      <th>month</th>\n",
       "    </tr>\n",
       "  </thead>\n",
       "  <tbody>\n",
       "    <tr>\n",
       "      <th>2</th>\n",
       "      <td>1000_2</td>\n",
       "      <td>2018-06-11</td>\n",
       "      <td>3</td>\n",
       "      <td>1000</td>\n",
       "      <td>6</td>\n",
       "    </tr>\n",
       "    <tr>\n",
       "      <th>3</th>\n",
       "      <td>1000_3</td>\n",
       "      <td>2018-09-21</td>\n",
       "      <td>14</td>\n",
       "      <td>1000</td>\n",
       "      <td>9</td>\n",
       "    </tr>\n",
       "    <tr>\n",
       "      <th>4</th>\n",
       "      <td>1000_4</td>\n",
       "      <td>2018-12-15</td>\n",
       "      <td>6</td>\n",
       "      <td>1000</td>\n",
       "      <td>12</td>\n",
       "    </tr>\n",
       "    <tr>\n",
       "      <th>7</th>\n",
       "      <td>1000_7</td>\n",
       "      <td>2018-08-22</td>\n",
       "      <td>19</td>\n",
       "      <td>1000</td>\n",
       "      <td>8</td>\n",
       "    </tr>\n",
       "    <tr>\n",
       "      <th>8</th>\n",
       "      <td>1000_8</td>\n",
       "      <td>2018-09-15</td>\n",
       "      <td>19</td>\n",
       "      <td>1000</td>\n",
       "      <td>9</td>\n",
       "    </tr>\n",
       "  </tbody>\n",
       "</table>\n",
       "</div>"
      ],
      "text/plain": [
       "       id  call_date  duration  user_id  month\n",
       "2  1000_2 2018-06-11         3     1000      6\n",
       "3  1000_3 2018-09-21        14     1000      9\n",
       "4  1000_4 2018-12-15         6     1000     12\n",
       "7  1000_7 2018-08-22        19     1000      8\n",
       "8  1000_8 2018-09-15        19     1000      9"
      ]
     },
     "execution_count": 964,
     "metadata": {},
     "output_type": "execute_result"
    }
   ],
   "source": [
    "data_calls.loc[:, 'month'] = data_calls['call_date'].dt.month\n",
    "data_internet.loc[:, 'month'] = data_internet['session_date'].dt.month\n",
    "data_messages.loc[:, 'month'] = data_messages['message_date'].dt.month\n",
    "\n",
    "# Проверим образование нового столбца:\n",
    "data_calls.head()"
   ]
  },
  {
   "cell_type": "markdown",
   "metadata": {},
   "source": [
    "Теперь посчитаем недостающие величины:"
   ]
  },
  {
   "cell_type": "code",
   "execution_count": 965,
   "metadata": {
    "scrolled": false
   },
   "outputs": [
    {
     "data": {
      "text/html": [
       "<div>\n",
       "<style scoped>\n",
       "    .dataframe tbody tr th:only-of-type {\n",
       "        vertical-align: middle;\n",
       "    }\n",
       "\n",
       "    .dataframe tbody tr th {\n",
       "        vertical-align: top;\n",
       "    }\n",
       "\n",
       "    .dataframe thead th {\n",
       "        text-align: right;\n",
       "    }\n",
       "</style>\n",
       "<table border=\"1\" class=\"dataframe\">\n",
       "  <thead>\n",
       "    <tr style=\"text-align: right;\">\n",
       "      <th></th>\n",
       "      <th>user_id</th>\n",
       "      <th>month</th>\n",
       "      <th>id</th>\n",
       "      <th>duration</th>\n",
       "    </tr>\n",
       "  </thead>\n",
       "  <tbody>\n",
       "    <tr>\n",
       "      <th>0</th>\n",
       "      <td>1000</td>\n",
       "      <td>5</td>\n",
       "      <td>17</td>\n",
       "      <td>159</td>\n",
       "    </tr>\n",
       "    <tr>\n",
       "      <th>1</th>\n",
       "      <td>1000</td>\n",
       "      <td>6</td>\n",
       "      <td>28</td>\n",
       "      <td>172</td>\n",
       "    </tr>\n",
       "    <tr>\n",
       "      <th>2</th>\n",
       "      <td>1000</td>\n",
       "      <td>7</td>\n",
       "      <td>41</td>\n",
       "      <td>340</td>\n",
       "    </tr>\n",
       "    <tr>\n",
       "      <th>3</th>\n",
       "      <td>1000</td>\n",
       "      <td>8</td>\n",
       "      <td>42</td>\n",
       "      <td>408</td>\n",
       "    </tr>\n",
       "    <tr>\n",
       "      <th>4</th>\n",
       "      <td>1000</td>\n",
       "      <td>9</td>\n",
       "      <td>46</td>\n",
       "      <td>466</td>\n",
       "    </tr>\n",
       "    <tr>\n",
       "      <th>5</th>\n",
       "      <td>1000</td>\n",
       "      <td>10</td>\n",
       "      <td>44</td>\n",
       "      <td>350</td>\n",
       "    </tr>\n",
       "    <tr>\n",
       "      <th>6</th>\n",
       "      <td>1000</td>\n",
       "      <td>11</td>\n",
       "      <td>37</td>\n",
       "      <td>338</td>\n",
       "    </tr>\n",
       "    <tr>\n",
       "      <th>7</th>\n",
       "      <td>1000</td>\n",
       "      <td>12</td>\n",
       "      <td>38</td>\n",
       "      <td>333</td>\n",
       "    </tr>\n",
       "    <tr>\n",
       "      <th>8</th>\n",
       "      <td>1001</td>\n",
       "      <td>11</td>\n",
       "      <td>45</td>\n",
       "      <td>430</td>\n",
       "    </tr>\n",
       "    <tr>\n",
       "      <th>9</th>\n",
       "      <td>1001</td>\n",
       "      <td>12</td>\n",
       "      <td>47</td>\n",
       "      <td>414</td>\n",
       "    </tr>\n",
       "    <tr>\n",
       "      <th>10</th>\n",
       "      <td>1002</td>\n",
       "      <td>6</td>\n",
       "      <td>14</td>\n",
       "      <td>117</td>\n",
       "    </tr>\n",
       "    <tr>\n",
       "      <th>11</th>\n",
       "      <td>1002</td>\n",
       "      <td>7</td>\n",
       "      <td>21</td>\n",
       "      <td>214</td>\n",
       "    </tr>\n",
       "    <tr>\n",
       "      <th>12</th>\n",
       "      <td>1002</td>\n",
       "      <td>8</td>\n",
       "      <td>37</td>\n",
       "      <td>289</td>\n",
       "    </tr>\n",
       "    <tr>\n",
       "      <th>13</th>\n",
       "      <td>1002</td>\n",
       "      <td>9</td>\n",
       "      <td>25</td>\n",
       "      <td>206</td>\n",
       "    </tr>\n",
       "    <tr>\n",
       "      <th>14</th>\n",
       "      <td>1002</td>\n",
       "      <td>10</td>\n",
       "      <td>24</td>\n",
       "      <td>212</td>\n",
       "    </tr>\n",
       "  </tbody>\n",
       "</table>\n",
       "</div>"
      ],
      "text/plain": [
       "    user_id  month  id  duration\n",
       "0      1000      5  17       159\n",
       "1      1000      6  28       172\n",
       "2      1000      7  41       340\n",
       "3      1000      8  42       408\n",
       "4      1000      9  46       466\n",
       "5      1000     10  44       350\n",
       "6      1000     11  37       338\n",
       "7      1000     12  38       333\n",
       "8      1001     11  45       430\n",
       "9      1001     12  47       414\n",
       "10     1002      6  14       117\n",
       "11     1002      7  21       214\n",
       "12     1002      8  37       289\n",
       "13     1002      9  25       206\n",
       "14     1002     10  24       212"
      ]
     },
     "execution_count": 965,
     "metadata": {},
     "output_type": "execute_result"
    }
   ],
   "source": [
    "# Группируем таблицу звонков по пользователю и месяцу, считаем количество звонков \n",
    "# и длительность звонков по месяцам,\n",
    "# для некоторой логичности вывода информации отсортируем по пользователю и по месяцу.\n",
    "\n",
    "calls_grouped = (data_calls\n",
    "                 .groupby(['user_id','month'])\n",
    "                 .agg({'id':'count','duration':'sum'})\n",
    "                 .sort_values(by=['user_id','month'])\n",
    "              .reset_index())\n",
    "\n",
    "calls_grouped.head(15)"
   ]
  },
  {
   "cell_type": "code",
   "execution_count": 966,
   "metadata": {
    "scrolled": false
   },
   "outputs": [
    {
     "data": {
      "text/html": [
       "<div>\n",
       "<style scoped>\n",
       "    .dataframe tbody tr th:only-of-type {\n",
       "        vertical-align: middle;\n",
       "    }\n",
       "\n",
       "    .dataframe tbody tr th {\n",
       "        vertical-align: top;\n",
       "    }\n",
       "\n",
       "    .dataframe thead th {\n",
       "        text-align: right;\n",
       "    }\n",
       "</style>\n",
       "<table border=\"1\" class=\"dataframe\">\n",
       "  <thead>\n",
       "    <tr style=\"text-align: right;\">\n",
       "      <th></th>\n",
       "      <th>user_id</th>\n",
       "      <th>month</th>\n",
       "      <th>id</th>\n",
       "    </tr>\n",
       "  </thead>\n",
       "  <tbody>\n",
       "    <tr>\n",
       "      <th>0</th>\n",
       "      <td>1000</td>\n",
       "      <td>5</td>\n",
       "      <td>22</td>\n",
       "    </tr>\n",
       "    <tr>\n",
       "      <th>1</th>\n",
       "      <td>1000</td>\n",
       "      <td>6</td>\n",
       "      <td>60</td>\n",
       "    </tr>\n",
       "    <tr>\n",
       "      <th>2</th>\n",
       "      <td>1000</td>\n",
       "      <td>7</td>\n",
       "      <td>75</td>\n",
       "    </tr>\n",
       "    <tr>\n",
       "      <th>3</th>\n",
       "      <td>1000</td>\n",
       "      <td>8</td>\n",
       "      <td>81</td>\n",
       "    </tr>\n",
       "    <tr>\n",
       "      <th>4</th>\n",
       "      <td>1000</td>\n",
       "      <td>9</td>\n",
       "      <td>57</td>\n",
       "    </tr>\n",
       "    <tr>\n",
       "      <th>5</th>\n",
       "      <td>1000</td>\n",
       "      <td>10</td>\n",
       "      <td>73</td>\n",
       "    </tr>\n",
       "    <tr>\n",
       "      <th>6</th>\n",
       "      <td>1000</td>\n",
       "      <td>11</td>\n",
       "      <td>58</td>\n",
       "    </tr>\n",
       "    <tr>\n",
       "      <th>7</th>\n",
       "      <td>1000</td>\n",
       "      <td>12</td>\n",
       "      <td>70</td>\n",
       "    </tr>\n",
       "    <tr>\n",
       "      <th>8</th>\n",
       "      <td>1002</td>\n",
       "      <td>6</td>\n",
       "      <td>4</td>\n",
       "    </tr>\n",
       "    <tr>\n",
       "      <th>9</th>\n",
       "      <td>1002</td>\n",
       "      <td>7</td>\n",
       "      <td>11</td>\n",
       "    </tr>\n",
       "    <tr>\n",
       "      <th>10</th>\n",
       "      <td>1002</td>\n",
       "      <td>8</td>\n",
       "      <td>13</td>\n",
       "    </tr>\n",
       "    <tr>\n",
       "      <th>11</th>\n",
       "      <td>1002</td>\n",
       "      <td>9</td>\n",
       "      <td>4</td>\n",
       "    </tr>\n",
       "    <tr>\n",
       "      <th>12</th>\n",
       "      <td>1002</td>\n",
       "      <td>10</td>\n",
       "      <td>10</td>\n",
       "    </tr>\n",
       "    <tr>\n",
       "      <th>13</th>\n",
       "      <td>1002</td>\n",
       "      <td>11</td>\n",
       "      <td>16</td>\n",
       "    </tr>\n",
       "    <tr>\n",
       "      <th>14</th>\n",
       "      <td>1002</td>\n",
       "      <td>12</td>\n",
       "      <td>12</td>\n",
       "    </tr>\n",
       "  </tbody>\n",
       "</table>\n",
       "</div>"
      ],
      "text/plain": [
       "    user_id  month  id\n",
       "0      1000      5  22\n",
       "1      1000      6  60\n",
       "2      1000      7  75\n",
       "3      1000      8  81\n",
       "4      1000      9  57\n",
       "5      1000     10  73\n",
       "6      1000     11  58\n",
       "7      1000     12  70\n",
       "8      1002      6   4\n",
       "9      1002      7  11\n",
       "10     1002      8  13\n",
       "11     1002      9   4\n",
       "12     1002     10  10\n",
       "13     1002     11  16\n",
       "14     1002     12  12"
      ]
     },
     "execution_count": 966,
     "metadata": {},
     "output_type": "execute_result"
    }
   ],
   "source": [
    "# Группируем таблицу сообщений по пользователю и месяцу, считаем количество сообщений.\n",
    "# Для некоторой логичности вывода информации отсортируем по пользователю и по месяцу.\n",
    "\n",
    "messages_grouped = (data_messages\n",
    "                 .groupby(['user_id','month'])\n",
    "                 .agg({'id':'count'})\n",
    "                 .sort_values(by=['user_id','month'])\n",
    "                 .reset_index())\n",
    "\n",
    "messages_grouped.head(15)"
   ]
  },
  {
   "cell_type": "code",
   "execution_count": 967,
   "metadata": {},
   "outputs": [
    {
     "data": {
      "text/html": [
       "<div>\n",
       "<style scoped>\n",
       "    .dataframe tbody tr th:only-of-type {\n",
       "        vertical-align: middle;\n",
       "    }\n",
       "\n",
       "    .dataframe tbody tr th {\n",
       "        vertical-align: top;\n",
       "    }\n",
       "\n",
       "    .dataframe thead th {\n",
       "        text-align: right;\n",
       "    }\n",
       "</style>\n",
       "<table border=\"1\" class=\"dataframe\">\n",
       "  <thead>\n",
       "    <tr style=\"text-align: right;\">\n",
       "      <th></th>\n",
       "      <th>user_id</th>\n",
       "      <th>month</th>\n",
       "      <th>mb_used</th>\n",
       "    </tr>\n",
       "  </thead>\n",
       "  <tbody>\n",
       "    <tr>\n",
       "      <th>0</th>\n",
       "      <td>1000</td>\n",
       "      <td>5</td>\n",
       "      <td>2256</td>\n",
       "    </tr>\n",
       "    <tr>\n",
       "      <th>1</th>\n",
       "      <td>1000</td>\n",
       "      <td>6</td>\n",
       "      <td>23257</td>\n",
       "    </tr>\n",
       "    <tr>\n",
       "      <th>2</th>\n",
       "      <td>1000</td>\n",
       "      <td>7</td>\n",
       "      <td>14016</td>\n",
       "    </tr>\n",
       "    <tr>\n",
       "      <th>3</th>\n",
       "      <td>1000</td>\n",
       "      <td>8</td>\n",
       "      <td>14070</td>\n",
       "    </tr>\n",
       "    <tr>\n",
       "      <th>4</th>\n",
       "      <td>1000</td>\n",
       "      <td>9</td>\n",
       "      <td>14581</td>\n",
       "    </tr>\n",
       "    <tr>\n",
       "      <th>5</th>\n",
       "      <td>1000</td>\n",
       "      <td>10</td>\n",
       "      <td>14717</td>\n",
       "    </tr>\n",
       "    <tr>\n",
       "      <th>6</th>\n",
       "      <td>1000</td>\n",
       "      <td>11</td>\n",
       "      <td>14768</td>\n",
       "    </tr>\n",
       "    <tr>\n",
       "      <th>7</th>\n",
       "      <td>1000</td>\n",
       "      <td>12</td>\n",
       "      <td>9827</td>\n",
       "    </tr>\n",
       "    <tr>\n",
       "      <th>8</th>\n",
       "      <td>1001</td>\n",
       "      <td>11</td>\n",
       "      <td>18452</td>\n",
       "    </tr>\n",
       "    <tr>\n",
       "      <th>9</th>\n",
       "      <td>1001</td>\n",
       "      <td>12</td>\n",
       "      <td>14053</td>\n",
       "    </tr>\n",
       "  </tbody>\n",
       "</table>\n",
       "</div>"
      ],
      "text/plain": [
       "   user_id  month  mb_used\n",
       "0     1000      5     2256\n",
       "1     1000      6    23257\n",
       "2     1000      7    14016\n",
       "3     1000      8    14070\n",
       "4     1000      9    14581\n",
       "5     1000     10    14717\n",
       "6     1000     11    14768\n",
       "7     1000     12     9827\n",
       "8     1001     11    18452\n",
       "9     1001     12    14053"
      ]
     },
     "execution_count": 967,
     "metadata": {},
     "output_type": "execute_result"
    }
   ],
   "source": [
    "# Группируем таблицу потраченного трафика по пользователю и месяцу, считаем суммарный трафик.\n",
    "# Для некоторой логичности вывода информации отсортируем по пользователю и по месяцу.\n",
    "\n",
    "internet_grouped = (data_internet\n",
    "                 .groupby(['user_id','month'])\n",
    "                 .agg({'mb_used':'sum'})\n",
    "                 .sort_values(by=['user_id','month'])\n",
    "                 .reset_index())\n",
    "\n",
    "internet_grouped.head(10)"
   ]
  },
  {
   "cell_type": "markdown",
   "metadata": {},
   "source": [
    "Теперь для расчёта выручки объединим необходимые данные в сводную таблицу."
   ]
  },
  {
   "cell_type": "code",
   "execution_count": 968,
   "metadata": {
    "scrolled": false
   },
   "outputs": [
    {
     "data": {
      "text/html": [
       "<div>\n",
       "<style scoped>\n",
       "    .dataframe tbody tr th:only-of-type {\n",
       "        vertical-align: middle;\n",
       "    }\n",
       "\n",
       "    .dataframe tbody tr th {\n",
       "        vertical-align: top;\n",
       "    }\n",
       "\n",
       "    .dataframe thead th {\n",
       "        text-align: right;\n",
       "    }\n",
       "</style>\n",
       "<table border=\"1\" class=\"dataframe\">\n",
       "  <thead>\n",
       "    <tr style=\"text-align: right;\">\n",
       "      <th></th>\n",
       "      <th>user_id</th>\n",
       "      <th>age</th>\n",
       "      <th>churn_date</th>\n",
       "      <th>city</th>\n",
       "      <th>first_name</th>\n",
       "      <th>last_name</th>\n",
       "      <th>reg_date</th>\n",
       "      <th>tariff</th>\n",
       "      <th>month</th>\n",
       "      <th>id_calls_count</th>\n",
       "      <th>duration</th>\n",
       "      <th>id_messages_count</th>\n",
       "      <th>mb_used</th>\n",
       "    </tr>\n",
       "  </thead>\n",
       "  <tbody>\n",
       "    <tr>\n",
       "      <th>0</th>\n",
       "      <td>1000</td>\n",
       "      <td>52.0</td>\n",
       "      <td>NaT</td>\n",
       "      <td>Краснодар</td>\n",
       "      <td>Рафаил</td>\n",
       "      <td>Верещагин</td>\n",
       "      <td>2018-05-25</td>\n",
       "      <td>ultra</td>\n",
       "      <td>5.0</td>\n",
       "      <td>17.0</td>\n",
       "      <td>159.0</td>\n",
       "      <td>22.0</td>\n",
       "      <td>2256.0</td>\n",
       "    </tr>\n",
       "    <tr>\n",
       "      <th>1</th>\n",
       "      <td>1000</td>\n",
       "      <td>52.0</td>\n",
       "      <td>NaT</td>\n",
       "      <td>Краснодар</td>\n",
       "      <td>Рафаил</td>\n",
       "      <td>Верещагин</td>\n",
       "      <td>2018-05-25</td>\n",
       "      <td>ultra</td>\n",
       "      <td>6.0</td>\n",
       "      <td>28.0</td>\n",
       "      <td>172.0</td>\n",
       "      <td>60.0</td>\n",
       "      <td>23257.0</td>\n",
       "    </tr>\n",
       "    <tr>\n",
       "      <th>2</th>\n",
       "      <td>1000</td>\n",
       "      <td>52.0</td>\n",
       "      <td>NaT</td>\n",
       "      <td>Краснодар</td>\n",
       "      <td>Рафаил</td>\n",
       "      <td>Верещагин</td>\n",
       "      <td>2018-05-25</td>\n",
       "      <td>ultra</td>\n",
       "      <td>7.0</td>\n",
       "      <td>41.0</td>\n",
       "      <td>340.0</td>\n",
       "      <td>75.0</td>\n",
       "      <td>14016.0</td>\n",
       "    </tr>\n",
       "    <tr>\n",
       "      <th>3</th>\n",
       "      <td>1000</td>\n",
       "      <td>52.0</td>\n",
       "      <td>NaT</td>\n",
       "      <td>Краснодар</td>\n",
       "      <td>Рафаил</td>\n",
       "      <td>Верещагин</td>\n",
       "      <td>2018-05-25</td>\n",
       "      <td>ultra</td>\n",
       "      <td>8.0</td>\n",
       "      <td>42.0</td>\n",
       "      <td>408.0</td>\n",
       "      <td>81.0</td>\n",
       "      <td>14070.0</td>\n",
       "    </tr>\n",
       "    <tr>\n",
       "      <th>4</th>\n",
       "      <td>1000</td>\n",
       "      <td>52.0</td>\n",
       "      <td>NaT</td>\n",
       "      <td>Краснодар</td>\n",
       "      <td>Рафаил</td>\n",
       "      <td>Верещагин</td>\n",
       "      <td>2018-05-25</td>\n",
       "      <td>ultra</td>\n",
       "      <td>9.0</td>\n",
       "      <td>46.0</td>\n",
       "      <td>466.0</td>\n",
       "      <td>57.0</td>\n",
       "      <td>14581.0</td>\n",
       "    </tr>\n",
       "  </tbody>\n",
       "</table>\n",
       "</div>"
      ],
      "text/plain": [
       "   user_id   age churn_date       city first_name  last_name   reg_date  \\\n",
       "0     1000  52.0        NaT  Краснодар     Рафаил  Верещагин 2018-05-25   \n",
       "1     1000  52.0        NaT  Краснодар     Рафаил  Верещагин 2018-05-25   \n",
       "2     1000  52.0        NaT  Краснодар     Рафаил  Верещагин 2018-05-25   \n",
       "3     1000  52.0        NaT  Краснодар     Рафаил  Верещагин 2018-05-25   \n",
       "4     1000  52.0        NaT  Краснодар     Рафаил  Верещагин 2018-05-25   \n",
       "\n",
       "  tariff  month  id_calls_count  duration  id_messages_count  mb_used  \n",
       "0  ultra    5.0            17.0     159.0               22.0   2256.0  \n",
       "1  ultra    6.0            28.0     172.0               60.0  23257.0  \n",
       "2  ultra    7.0            41.0     340.0               75.0  14016.0  \n",
       "3  ultra    8.0            42.0     408.0               81.0  14070.0  \n",
       "4  ultra    9.0            46.0     466.0               57.0  14581.0  "
      ]
     },
     "execution_count": 968,
     "metadata": {},
     "output_type": "execute_result"
    }
   ],
   "source": [
    "user_calls = (data_users.merge(calls_grouped, \n",
    "                              on='user_id', \n",
    "                              how='outer'))\n",
    "\n",
    "user_calls_messages = (user_calls.merge(messages_grouped, \n",
    "                                        on=['user_id','month'], \n",
    "                                        how='outer',\n",
    "                                        suffixes=('_calls_count', '_messages_count')))\n",
    "\n",
    "data = (user_calls_messages.merge(internet_grouped,\n",
    "                                  on=['user_id','month'],\n",
    "                                  how='outer'))\n",
    "data.head(5)"
   ]
  },
  {
   "cell_type": "code",
   "execution_count": 969,
   "metadata": {
    "scrolled": true
   },
   "outputs": [
    {
     "name": "stdout",
     "output_type": "stream",
     "text": [
      "<class 'pandas.core.frame.DataFrame'>\n",
      "Int64Index: 3222 entries, 0 to 3221\n",
      "Data columns (total 13 columns):\n",
      " #   Column             Non-Null Count  Dtype         \n",
      "---  ------             --------------  -----         \n",
      " 0   user_id            3222 non-null   int64         \n",
      " 1   age                3176 non-null   float64       \n",
      " 2   churn_date         189 non-null    datetime64[ns]\n",
      " 3   city               3176 non-null   object        \n",
      " 4   first_name         3176 non-null   object        \n",
      " 5   last_name          3176 non-null   object        \n",
      " 6   reg_date           3176 non-null   datetime64[ns]\n",
      " 7   tariff             3176 non-null   object        \n",
      " 8   month              3214 non-null   float64       \n",
      " 9   id_calls_count     3168 non-null   float64       \n",
      " 10  duration           3168 non-null   float64       \n",
      " 11  id_messages_count  2717 non-null   float64       \n",
      " 12  mb_used            3203 non-null   float64       \n",
      "dtypes: datetime64[ns](2), float64(6), int64(1), object(4)\n",
      "memory usage: 352.4+ KB\n"
     ]
    }
   ],
   "source": [
    "data.info()"
   ]
  },
  {
   "cell_type": "markdown",
   "metadata": {},
   "source": [
    "Обнаружили пропущенные значения в звонках, сообщениях и потраченном трафике. Это логично объясняется - абоненты могут в принципе не пользоваться какими-то услугами. Заменим эти пропуски на нули, чтобы сохранить для них расчёт выручки.\n",
    "\n",
    "Также есть 46 абонентов с пропущенными именем, фамилией, городом и тарифом. Видимо, это результат ошибки при сборе данных, либо какие-то безымянные сим-карты или что-то подобное. Их количество невелико, к тому же, не зная их тарифа, мы не сможем правильно посчитать их выручку. Поэтому данные пропуски можно удалить."
   ]
  },
  {
   "cell_type": "code",
   "execution_count": 970,
   "metadata": {
    "scrolled": true
   },
   "outputs": [],
   "source": [
    "data['id_calls_count'].fillna(0, inplace=True)\n",
    "data['duration'].fillna(0, inplace=True)\n",
    "data['id_messages_count'].fillna(0, inplace=True)\n",
    "data['mb_used'].fillna(0, inplace=True)\n",
    "\n",
    "data.dropna(subset = ['month', 'tariff'], inplace = True)"
   ]
  },
  {
   "cell_type": "markdown",
   "metadata": {},
   "source": [
    "Теперь рассчитаем выручку по каждому абоненту. Для этого напишем фунцкию для расчёта в зависимости от тарифа."
   ]
  },
  {
   "cell_type": "code",
   "execution_count": 971,
   "metadata": {},
   "outputs": [
    {
     "data": {
      "text/html": [
       "<div>\n",
       "<style scoped>\n",
       "    .dataframe tbody tr th:only-of-type {\n",
       "        vertical-align: middle;\n",
       "    }\n",
       "\n",
       "    .dataframe tbody tr th {\n",
       "        vertical-align: top;\n",
       "    }\n",
       "\n",
       "    .dataframe thead th {\n",
       "        text-align: right;\n",
       "    }\n",
       "</style>\n",
       "<table border=\"1\" class=\"dataframe\">\n",
       "  <thead>\n",
       "    <tr style=\"text-align: right;\">\n",
       "      <th></th>\n",
       "      <th>messages_included</th>\n",
       "      <th>mb_per_month_included</th>\n",
       "      <th>minutes_included</th>\n",
       "      <th>rub_monthly_fee</th>\n",
       "      <th>rub_per_gb</th>\n",
       "      <th>rub_per_message</th>\n",
       "      <th>rub_per_minute</th>\n",
       "      <th>tariff_name</th>\n",
       "    </tr>\n",
       "  </thead>\n",
       "  <tbody>\n",
       "    <tr>\n",
       "      <th>0</th>\n",
       "      <td>50</td>\n",
       "      <td>15360</td>\n",
       "      <td>500</td>\n",
       "      <td>550</td>\n",
       "      <td>200</td>\n",
       "      <td>3</td>\n",
       "      <td>3</td>\n",
       "      <td>smart</td>\n",
       "    </tr>\n",
       "    <tr>\n",
       "      <th>1</th>\n",
       "      <td>1000</td>\n",
       "      <td>30720</td>\n",
       "      <td>3000</td>\n",
       "      <td>1950</td>\n",
       "      <td>150</td>\n",
       "      <td>1</td>\n",
       "      <td>1</td>\n",
       "      <td>ultra</td>\n",
       "    </tr>\n",
       "  </tbody>\n",
       "</table>\n",
       "</div>"
      ],
      "text/plain": [
       "   messages_included  mb_per_month_included  minutes_included  \\\n",
       "0                 50                  15360               500   \n",
       "1               1000                  30720              3000   \n",
       "\n",
       "   rub_monthly_fee  rub_per_gb  rub_per_message  rub_per_minute tariff_name  \n",
       "0              550         200                3               3       smart  \n",
       "1             1950         150                1               1       ultra  "
      ]
     },
     "execution_count": 971,
     "metadata": {},
     "output_type": "execute_result"
    }
   ],
   "source": [
    "data_tariffs"
   ]
  },
  {
   "cell_type": "code",
   "execution_count": 972,
   "metadata": {
    "scrolled": false
   },
   "outputs": [
    {
     "data": {
      "text/html": [
       "<div>\n",
       "<style scoped>\n",
       "    .dataframe tbody tr th:only-of-type {\n",
       "        vertical-align: middle;\n",
       "    }\n",
       "\n",
       "    .dataframe tbody tr th {\n",
       "        vertical-align: top;\n",
       "    }\n",
       "\n",
       "    .dataframe thead th {\n",
       "        text-align: right;\n",
       "    }\n",
       "</style>\n",
       "<table border=\"1\" class=\"dataframe\">\n",
       "  <thead>\n",
       "    <tr style=\"text-align: right;\">\n",
       "      <th></th>\n",
       "      <th>user_id</th>\n",
       "      <th>age</th>\n",
       "      <th>churn_date</th>\n",
       "      <th>city</th>\n",
       "      <th>first_name</th>\n",
       "      <th>last_name</th>\n",
       "      <th>reg_date</th>\n",
       "      <th>tariff</th>\n",
       "      <th>month</th>\n",
       "      <th>id_calls_count</th>\n",
       "      <th>duration</th>\n",
       "      <th>id_messages_count</th>\n",
       "      <th>mb_used</th>\n",
       "      <th>income</th>\n",
       "    </tr>\n",
       "  </thead>\n",
       "  <tbody>\n",
       "    <tr>\n",
       "      <th>0</th>\n",
       "      <td>1000</td>\n",
       "      <td>52.0</td>\n",
       "      <td>NaT</td>\n",
       "      <td>Краснодар</td>\n",
       "      <td>Рафаил</td>\n",
       "      <td>Верещагин</td>\n",
       "      <td>2018-05-25</td>\n",
       "      <td>ultra</td>\n",
       "      <td>5.0</td>\n",
       "      <td>17.0</td>\n",
       "      <td>159.0</td>\n",
       "      <td>22.0</td>\n",
       "      <td>2256.0</td>\n",
       "      <td>1950.0</td>\n",
       "    </tr>\n",
       "    <tr>\n",
       "      <th>1</th>\n",
       "      <td>1000</td>\n",
       "      <td>52.0</td>\n",
       "      <td>NaT</td>\n",
       "      <td>Краснодар</td>\n",
       "      <td>Рафаил</td>\n",
       "      <td>Верещагин</td>\n",
       "      <td>2018-05-25</td>\n",
       "      <td>ultra</td>\n",
       "      <td>6.0</td>\n",
       "      <td>28.0</td>\n",
       "      <td>172.0</td>\n",
       "      <td>60.0</td>\n",
       "      <td>23257.0</td>\n",
       "      <td>1950.0</td>\n",
       "    </tr>\n",
       "  </tbody>\n",
       "</table>\n",
       "</div>"
      ],
      "text/plain": [
       "   user_id   age churn_date       city first_name  last_name   reg_date  \\\n",
       "0     1000  52.0        NaT  Краснодар     Рафаил  Верещагин 2018-05-25   \n",
       "1     1000  52.0        NaT  Краснодар     Рафаил  Верещагин 2018-05-25   \n",
       "\n",
       "  tariff  month  id_calls_count  duration  id_messages_count  mb_used  income  \n",
       "0  ultra    5.0            17.0     159.0               22.0   2256.0  1950.0  \n",
       "1  ultra    6.0            28.0     172.0               60.0  23257.0  1950.0  "
      ]
     },
     "execution_count": 972,
     "metadata": {},
     "output_type": "execute_result"
    }
   ],
   "source": [
    "# Считаю, что данные из таблицы data_tariffs в данном случае проще вписать вручную, чем делать ссылки на таблицу\n",
    "\n",
    "def income_counter(row):\n",
    "    \n",
    "    messages_overdraft = 0\n",
    "    traffic_overdraft  = 0\n",
    "    minutes_overdraft  = 0\n",
    "    \n",
    "    if row['tariff'] == 'smart':\n",
    "    \n",
    "        messages_overdraft = row['id_messages_count'] - 50  \n",
    "        if messages_overdraft < 0:\n",
    "            messages_overdraft = 0    \n",
    "            \n",
    "        traffic_overdraft = row['mb_used'] - 15360    \n",
    "        if traffic_overdraft < 0:\n",
    "            traffic_overdraft = 0     \n",
    "            \n",
    "        minutes_overdraft = row['duration'] - 500\n",
    "        if minutes_overdraft < 0:\n",
    "            minutes_overdraft = 0\n",
    "\n",
    "# Предположим, что тарификация идёт помегабайтная.             \n",
    "# Цену одного перерасходованно мегабайта определим как цену гигабайта, разделённую на 1024. \n",
    "   \n",
    "        income = 550 + (messages_overdraft*3) + (traffic_overdraft*200/1024) + (minutes_overdraft*3)\n",
    "        return income\n",
    "    \n",
    "    elif row['tariff'] == 'ultra':\n",
    "        \n",
    "        messages_overdraft = row['id_messages_count'] - 1000    \n",
    "        if messages_overdraft < 0:\n",
    "            messages_overdraft = 0    \n",
    "            \n",
    "        traffic_overdraft = row['mb_used'] - 30720    \n",
    "        if traffic_overdraft < 0:\n",
    "            traffic_overdraft = 0     \n",
    "            \n",
    "        minutes_overdraft = row['duration'] - 3000\n",
    "        if minutes_overdraft < 0:\n",
    "            minutes_overdraft = 0\n",
    "        \n",
    "        income = 1950 + (messages_overdraft*1) + (traffic_overdraft*150/1024) + (minutes_overdraft*1)\n",
    "        return income    \n",
    "\n",
    "# Применим функцию к новому столбцу и округлим значение до 2 знаков, после запятой.\n",
    "data['income'] = round(data.apply(income_counter,axis=1),2)\n",
    "data.head(2)"
   ]
  },
  {
   "cell_type": "code",
   "execution_count": 973,
   "metadata": {
    "scrolled": false
   },
   "outputs": [
    {
     "name": "stdout",
     "output_type": "stream",
     "text": [
      "<class 'pandas.core.frame.DataFrame'>\n",
      "Int64Index: 3168 entries, 0 to 3175\n",
      "Data columns (total 14 columns):\n",
      " #   Column          Non-Null Count  Dtype         \n",
      "---  ------          --------------  -----         \n",
      " 0   user_id         3168 non-null   int64         \n",
      " 1   age             3168 non-null   float64       \n",
      " 2   churn_date      187 non-null    datetime64[ns]\n",
      " 3   city            3168 non-null   object        \n",
      " 4   first_name      3168 non-null   object        \n",
      " 5   last_name       3168 non-null   object        \n",
      " 6   reg_date        3168 non-null   datetime64[ns]\n",
      " 7   tariff          3168 non-null   object        \n",
      " 8   month           3168 non-null   float64       \n",
      " 9   calls_total     3168 non-null   float64       \n",
      " 10  duration_total  3168 non-null   float64       \n",
      " 11  sms_total       3168 non-null   float64       \n",
      " 12  mb_used         3168 non-null   float64       \n",
      " 13  income          3168 non-null   float64       \n",
      "dtypes: datetime64[ns](2), float64(7), int64(1), object(4)\n",
      "memory usage: 371.2+ KB\n"
     ]
    }
   ],
   "source": [
    "# Заменим названия столбцов с сообщениями и звонками\n",
    "column_list = ['user_id', 'age', 'churn_date', 'city', 'first_name', 'last_name',\n",
    "       'reg_date', 'tariff', 'month', 'calls_total', 'duration_total',\n",
    "       'sms_total', 'mb_used', 'income']\n",
    "data.columns = column_list\n",
    "data.info()"
   ]
  },
  {
   "cell_type": "markdown",
   "metadata": {},
   "source": [
    "Заменим вещественные числа на натуральные там, где это требуется."
   ]
  },
  {
   "cell_type": "code",
   "execution_count": 974,
   "metadata": {},
   "outputs": [
    {
     "name": "stdout",
     "output_type": "stream",
     "text": [
      "<class 'pandas.core.frame.DataFrame'>\n",
      "Int64Index: 3168 entries, 0 to 3175\n",
      "Data columns (total 14 columns):\n",
      " #   Column          Non-Null Count  Dtype         \n",
      "---  ------          --------------  -----         \n",
      " 0   user_id         3168 non-null   int64         \n",
      " 1   age             3168 non-null   int64         \n",
      " 2   churn_date      187 non-null    datetime64[ns]\n",
      " 3   city            3168 non-null   object        \n",
      " 4   first_name      3168 non-null   object        \n",
      " 5   last_name       3168 non-null   object        \n",
      " 6   reg_date        3168 non-null   datetime64[ns]\n",
      " 7   tariff          3168 non-null   object        \n",
      " 8   month           3168 non-null   int64         \n",
      " 9   calls_total     3168 non-null   int64         \n",
      " 10  duration_total  3168 non-null   int64         \n",
      " 11  sms_total       3168 non-null   int64         \n",
      " 12  mb_used         3168 non-null   int64         \n",
      " 13  income          3168 non-null   float64       \n",
      "dtypes: datetime64[ns](2), float64(1), int64(7), object(4)\n",
      "memory usage: 371.2+ KB\n"
     ]
    }
   ],
   "source": [
    "data.loc[:, 'age'] = data.loc[:, 'age'].astype('int')\n",
    "data.loc[:, 'month'] = data.loc[:, 'month'].astype('int')\n",
    "data.loc[:, 'calls_total'] = data.loc[:, 'calls_total'].astype('int')\n",
    "data.loc[:, 'duration_total'] = data.loc[:, 'duration_total'].astype('int')\n",
    "data.loc[:, 'sms_total'] = data.loc[:, 'sms_total'].astype('int')\n",
    "data.loc[:, 'mb_used'] = data.loc[:, 'mb_used'].astype('int')\n",
    "data.info()"
   ]
  },
  {
   "cell_type": "markdown",
   "metadata": {},
   "source": [
    "Количество ненулевых значений расчитанных величин совпадает с количеством ненулевых значений имени,\n",
    "фамилии и тарифа. Нужным данным присвоен тип натуральных чисел. В общем, что и хотели получить. Вывожу на экран получившуюся сводную таблицу."
   ]
  },
  {
   "cell_type": "code",
   "execution_count": 975,
   "metadata": {},
   "outputs": [
    {
     "data": {
      "text/html": [
       "<div>\n",
       "<style scoped>\n",
       "    .dataframe tbody tr th:only-of-type {\n",
       "        vertical-align: middle;\n",
       "    }\n",
       "\n",
       "    .dataframe tbody tr th {\n",
       "        vertical-align: top;\n",
       "    }\n",
       "\n",
       "    .dataframe thead th {\n",
       "        text-align: right;\n",
       "    }\n",
       "</style>\n",
       "<table border=\"1\" class=\"dataframe\">\n",
       "  <thead>\n",
       "    <tr style=\"text-align: right;\">\n",
       "      <th></th>\n",
       "      <th>user_id</th>\n",
       "      <th>age</th>\n",
       "      <th>churn_date</th>\n",
       "      <th>city</th>\n",
       "      <th>first_name</th>\n",
       "      <th>last_name</th>\n",
       "      <th>reg_date</th>\n",
       "      <th>tariff</th>\n",
       "      <th>month</th>\n",
       "      <th>calls_total</th>\n",
       "      <th>duration_total</th>\n",
       "      <th>sms_total</th>\n",
       "      <th>mb_used</th>\n",
       "      <th>income</th>\n",
       "    </tr>\n",
       "  </thead>\n",
       "  <tbody>\n",
       "    <tr>\n",
       "      <th>0</th>\n",
       "      <td>1000</td>\n",
       "      <td>52</td>\n",
       "      <td>NaT</td>\n",
       "      <td>Краснодар</td>\n",
       "      <td>Рафаил</td>\n",
       "      <td>Верещагин</td>\n",
       "      <td>2018-05-25</td>\n",
       "      <td>ultra</td>\n",
       "      <td>5</td>\n",
       "      <td>17</td>\n",
       "      <td>159</td>\n",
       "      <td>22</td>\n",
       "      <td>2256</td>\n",
       "      <td>1950.00</td>\n",
       "    </tr>\n",
       "    <tr>\n",
       "      <th>1</th>\n",
       "      <td>1000</td>\n",
       "      <td>52</td>\n",
       "      <td>NaT</td>\n",
       "      <td>Краснодар</td>\n",
       "      <td>Рафаил</td>\n",
       "      <td>Верещагин</td>\n",
       "      <td>2018-05-25</td>\n",
       "      <td>ultra</td>\n",
       "      <td>6</td>\n",
       "      <td>28</td>\n",
       "      <td>172</td>\n",
       "      <td>60</td>\n",
       "      <td>23257</td>\n",
       "      <td>1950.00</td>\n",
       "    </tr>\n",
       "    <tr>\n",
       "      <th>2</th>\n",
       "      <td>1000</td>\n",
       "      <td>52</td>\n",
       "      <td>NaT</td>\n",
       "      <td>Краснодар</td>\n",
       "      <td>Рафаил</td>\n",
       "      <td>Верещагин</td>\n",
       "      <td>2018-05-25</td>\n",
       "      <td>ultra</td>\n",
       "      <td>7</td>\n",
       "      <td>41</td>\n",
       "      <td>340</td>\n",
       "      <td>75</td>\n",
       "      <td>14016</td>\n",
       "      <td>1950.00</td>\n",
       "    </tr>\n",
       "    <tr>\n",
       "      <th>3</th>\n",
       "      <td>1000</td>\n",
       "      <td>52</td>\n",
       "      <td>NaT</td>\n",
       "      <td>Краснодар</td>\n",
       "      <td>Рафаил</td>\n",
       "      <td>Верещагин</td>\n",
       "      <td>2018-05-25</td>\n",
       "      <td>ultra</td>\n",
       "      <td>8</td>\n",
       "      <td>42</td>\n",
       "      <td>408</td>\n",
       "      <td>81</td>\n",
       "      <td>14070</td>\n",
       "      <td>1950.00</td>\n",
       "    </tr>\n",
       "    <tr>\n",
       "      <th>4</th>\n",
       "      <td>1000</td>\n",
       "      <td>52</td>\n",
       "      <td>NaT</td>\n",
       "      <td>Краснодар</td>\n",
       "      <td>Рафаил</td>\n",
       "      <td>Верещагин</td>\n",
       "      <td>2018-05-25</td>\n",
       "      <td>ultra</td>\n",
       "      <td>9</td>\n",
       "      <td>46</td>\n",
       "      <td>466</td>\n",
       "      <td>57</td>\n",
       "      <td>14581</td>\n",
       "      <td>1950.00</td>\n",
       "    </tr>\n",
       "    <tr>\n",
       "      <th>5</th>\n",
       "      <td>1000</td>\n",
       "      <td>52</td>\n",
       "      <td>NaT</td>\n",
       "      <td>Краснодар</td>\n",
       "      <td>Рафаил</td>\n",
       "      <td>Верещагин</td>\n",
       "      <td>2018-05-25</td>\n",
       "      <td>ultra</td>\n",
       "      <td>10</td>\n",
       "      <td>44</td>\n",
       "      <td>350</td>\n",
       "      <td>73</td>\n",
       "      <td>14717</td>\n",
       "      <td>1950.00</td>\n",
       "    </tr>\n",
       "    <tr>\n",
       "      <th>6</th>\n",
       "      <td>1000</td>\n",
       "      <td>52</td>\n",
       "      <td>NaT</td>\n",
       "      <td>Краснодар</td>\n",
       "      <td>Рафаил</td>\n",
       "      <td>Верещагин</td>\n",
       "      <td>2018-05-25</td>\n",
       "      <td>ultra</td>\n",
       "      <td>11</td>\n",
       "      <td>37</td>\n",
       "      <td>338</td>\n",
       "      <td>58</td>\n",
       "      <td>14768</td>\n",
       "      <td>1950.00</td>\n",
       "    </tr>\n",
       "    <tr>\n",
       "      <th>7</th>\n",
       "      <td>1000</td>\n",
       "      <td>52</td>\n",
       "      <td>NaT</td>\n",
       "      <td>Краснодар</td>\n",
       "      <td>Рафаил</td>\n",
       "      <td>Верещагин</td>\n",
       "      <td>2018-05-25</td>\n",
       "      <td>ultra</td>\n",
       "      <td>12</td>\n",
       "      <td>38</td>\n",
       "      <td>333</td>\n",
       "      <td>70</td>\n",
       "      <td>9827</td>\n",
       "      <td>1950.00</td>\n",
       "    </tr>\n",
       "    <tr>\n",
       "      <th>8</th>\n",
       "      <td>1001</td>\n",
       "      <td>41</td>\n",
       "      <td>NaT</td>\n",
       "      <td>Москва</td>\n",
       "      <td>Иван</td>\n",
       "      <td>Ежов</td>\n",
       "      <td>2018-11-01</td>\n",
       "      <td>smart</td>\n",
       "      <td>11</td>\n",
       "      <td>45</td>\n",
       "      <td>430</td>\n",
       "      <td>0</td>\n",
       "      <td>18452</td>\n",
       "      <td>1153.91</td>\n",
       "    </tr>\n",
       "    <tr>\n",
       "      <th>9</th>\n",
       "      <td>1001</td>\n",
       "      <td>41</td>\n",
       "      <td>NaT</td>\n",
       "      <td>Москва</td>\n",
       "      <td>Иван</td>\n",
       "      <td>Ежов</td>\n",
       "      <td>2018-11-01</td>\n",
       "      <td>smart</td>\n",
       "      <td>12</td>\n",
       "      <td>47</td>\n",
       "      <td>414</td>\n",
       "      <td>0</td>\n",
       "      <td>14053</td>\n",
       "      <td>550.00</td>\n",
       "    </tr>\n",
       "    <tr>\n",
       "      <th>10</th>\n",
       "      <td>1002</td>\n",
       "      <td>59</td>\n",
       "      <td>NaT</td>\n",
       "      <td>Стерлитамак</td>\n",
       "      <td>Евгений</td>\n",
       "      <td>Абрамович</td>\n",
       "      <td>2018-06-17</td>\n",
       "      <td>smart</td>\n",
       "      <td>6</td>\n",
       "      <td>14</td>\n",
       "      <td>117</td>\n",
       "      <td>4</td>\n",
       "      <td>10871</td>\n",
       "      <td>550.00</td>\n",
       "    </tr>\n",
       "    <tr>\n",
       "      <th>11</th>\n",
       "      <td>1002</td>\n",
       "      <td>59</td>\n",
       "      <td>NaT</td>\n",
       "      <td>Стерлитамак</td>\n",
       "      <td>Евгений</td>\n",
       "      <td>Абрамович</td>\n",
       "      <td>2018-06-17</td>\n",
       "      <td>smart</td>\n",
       "      <td>7</td>\n",
       "      <td>21</td>\n",
       "      <td>214</td>\n",
       "      <td>11</td>\n",
       "      <td>17601</td>\n",
       "      <td>987.70</td>\n",
       "    </tr>\n",
       "    <tr>\n",
       "      <th>12</th>\n",
       "      <td>1002</td>\n",
       "      <td>59</td>\n",
       "      <td>NaT</td>\n",
       "      <td>Стерлитамак</td>\n",
       "      <td>Евгений</td>\n",
       "      <td>Абрамович</td>\n",
       "      <td>2018-06-17</td>\n",
       "      <td>smart</td>\n",
       "      <td>8</td>\n",
       "      <td>37</td>\n",
       "      <td>289</td>\n",
       "      <td>13</td>\n",
       "      <td>20347</td>\n",
       "      <td>1524.02</td>\n",
       "    </tr>\n",
       "    <tr>\n",
       "      <th>13</th>\n",
       "      <td>1002</td>\n",
       "      <td>59</td>\n",
       "      <td>NaT</td>\n",
       "      <td>Стерлитамак</td>\n",
       "      <td>Евгений</td>\n",
       "      <td>Абрамович</td>\n",
       "      <td>2018-06-17</td>\n",
       "      <td>smart</td>\n",
       "      <td>9</td>\n",
       "      <td>25</td>\n",
       "      <td>206</td>\n",
       "      <td>4</td>\n",
       "      <td>16712</td>\n",
       "      <td>814.06</td>\n",
       "    </tr>\n",
       "    <tr>\n",
       "      <th>14</th>\n",
       "      <td>1002</td>\n",
       "      <td>59</td>\n",
       "      <td>NaT</td>\n",
       "      <td>Стерлитамак</td>\n",
       "      <td>Евгений</td>\n",
       "      <td>Абрамович</td>\n",
       "      <td>2018-06-17</td>\n",
       "      <td>smart</td>\n",
       "      <td>10</td>\n",
       "      <td>24</td>\n",
       "      <td>212</td>\n",
       "      <td>10</td>\n",
       "      <td>13905</td>\n",
       "      <td>550.00</td>\n",
       "    </tr>\n",
       "  </tbody>\n",
       "</table>\n",
       "</div>"
      ],
      "text/plain": [
       "    user_id  age churn_date         city first_name  last_name   reg_date  \\\n",
       "0      1000   52        NaT    Краснодар     Рафаил  Верещагин 2018-05-25   \n",
       "1      1000   52        NaT    Краснодар     Рафаил  Верещагин 2018-05-25   \n",
       "2      1000   52        NaT    Краснодар     Рафаил  Верещагин 2018-05-25   \n",
       "3      1000   52        NaT    Краснодар     Рафаил  Верещагин 2018-05-25   \n",
       "4      1000   52        NaT    Краснодар     Рафаил  Верещагин 2018-05-25   \n",
       "5      1000   52        NaT    Краснодар     Рафаил  Верещагин 2018-05-25   \n",
       "6      1000   52        NaT    Краснодар     Рафаил  Верещагин 2018-05-25   \n",
       "7      1000   52        NaT    Краснодар     Рафаил  Верещагин 2018-05-25   \n",
       "8      1001   41        NaT       Москва       Иван       Ежов 2018-11-01   \n",
       "9      1001   41        NaT       Москва       Иван       Ежов 2018-11-01   \n",
       "10     1002   59        NaT  Стерлитамак    Евгений  Абрамович 2018-06-17   \n",
       "11     1002   59        NaT  Стерлитамак    Евгений  Абрамович 2018-06-17   \n",
       "12     1002   59        NaT  Стерлитамак    Евгений  Абрамович 2018-06-17   \n",
       "13     1002   59        NaT  Стерлитамак    Евгений  Абрамович 2018-06-17   \n",
       "14     1002   59        NaT  Стерлитамак    Евгений  Абрамович 2018-06-17   \n",
       "\n",
       "   tariff  month  calls_total  duration_total  sms_total  mb_used   income  \n",
       "0   ultra      5           17             159         22     2256  1950.00  \n",
       "1   ultra      6           28             172         60    23257  1950.00  \n",
       "2   ultra      7           41             340         75    14016  1950.00  \n",
       "3   ultra      8           42             408         81    14070  1950.00  \n",
       "4   ultra      9           46             466         57    14581  1950.00  \n",
       "5   ultra     10           44             350         73    14717  1950.00  \n",
       "6   ultra     11           37             338         58    14768  1950.00  \n",
       "7   ultra     12           38             333         70     9827  1950.00  \n",
       "8   smart     11           45             430          0    18452  1153.91  \n",
       "9   smart     12           47             414          0    14053   550.00  \n",
       "10  smart      6           14             117          4    10871   550.00  \n",
       "11  smart      7           21             214         11    17601   987.70  \n",
       "12  smart      8           37             289         13    20347  1524.02  \n",
       "13  smart      9           25             206          4    16712   814.06  \n",
       "14  smart     10           24             212         10    13905   550.00  "
      ]
     },
     "execution_count": 975,
     "metadata": {},
     "output_type": "execute_result"
    }
   ],
   "source": [
    "data.head(15)"
   ]
  },
  {
   "cell_type": "markdown",
   "metadata": {},
   "source": [
    "### Вывод по подготовке данных (Шагу 2)\n",
    "\n",
    "Посчитаны значения по месяцам для каждого пользователя:\n",
    "1. Количество сделанных звонков и израсходованных минут.\n",
    "2. Посчитано количество сообщений.\n",
    "3. Объём израсходованного трафика.\n",
    "4. Выручка с каждого пользователя."
   ]
  },
  {
   "cell_type": "markdown",
   "metadata": {},
   "source": [
    "### Анализ данных (Шаг 3)\n",
    "\n",
    "Для каждого из параметров построим общую гистограмму для двух тарифов и отдельные для каждого. Также построим боксплоты, покажем линии тарифных лимитов и рассчитаем параметры распределения. Считаю, что обычные гистограммы .hist дают достаточно явную картину распределений.\n",
    "\n",
    "### Длительность звонков"
   ]
  },
  {
   "cell_type": "code",
   "execution_count": 976,
   "metadata": {
    "scrolled": false
   },
   "outputs": [
    {
     "name": "stdout",
     "output_type": "stream",
     "text": [
      "Количество пользователей тарифа Смарт: 2221\n",
      "Количество пользователей тарифа Ультра: 947\n"
     ]
    },
    {
     "data": {
      "image/png": "[encoded data removed]",
      "text/plain": [
       "<Figure size 720x432 with 1 Axes>"
      ]
     },
     "metadata": {
      "needs_background": "light"
     },
     "output_type": "display_data"
    },
    {
     "data": {
      "image/png": "[encoded data removed]",
      "text/plain": [
       "<Figure size 720x432 with 1 Axes>"
      ]
     },
     "metadata": {
      "needs_background": "light"
     },
     "output_type": "display_data"
    },
    {
     "data": {
      "image/png": "[encoded data removed]",
      "text/plain": [
       "<Figure size 1152x432 with 1 Axes>"
      ]
     },
     "metadata": {
      "needs_background": "light"
     },
     "output_type": "display_data"
    },
    {
     "data": {
      "image/png": "[encoded data removed]",
      "text/plain": [
       "<Figure size 720x144 with 1 Axes>"
      ]
     },
     "metadata": {
      "needs_background": "light"
     },
     "output_type": "display_data"
    },
    {
     "data": {
      "image/png": "[encoded data removed]",
      "text/plain": [
       "<Figure size 1152x144 with 1 Axes>"
      ]
     },
     "metadata": {
      "needs_background": "light"
     },
     "output_type": "display_data"
    },
    {
     "name": "stdout",
     "output_type": "stream",
     "text": [
      "Параметры длительности звонков для тарифа Смарт:\n",
      "Среднее значение: 419.44\n",
      "Дисперсия: 35702.05\n",
      "Стандартное отклонение: 188.95\n",
      "\n",
      "Параметры длительности звонков для тарифа Ультра:\n",
      "Среднее значение: 547.76\n",
      "Дисперсия: 93239.87\n",
      "Стандартное отклонение: 305.35\n"
     ]
    }
   ],
   "source": [
    "# Создадим отдельные датасеты для тарифов\n",
    "data_smart = data.query('tariff == \"smart\"')\n",
    "data_ultra = data.query('tariff == \"ultra\"')\n",
    "print(f'Количество пользователей тарифа Смарт: {len(data_smart)}')\n",
    "print(f'Количество пользователей тарифа Ультра: {len(data_ultra)}')\n",
    "\n",
    "# Строим общую гистограмму\n",
    "data_smart['duration_total'].hist(alpha=0.5, figsize=(10,6), label='Smart', bins=30, color='g')\n",
    "data_ultra['duration_total'].hist(alpha=0.5, figsize=(10,6), label='Ultra', bins=30, color='b')\n",
    "plt.legend()\n",
    "plt.xlabel('Длительность звонков, минуты в месяц')\n",
    "plt.ylabel('Встречаемость')\n",
    "plt.title('Гистограмма для двух тарифов')\n",
    "plt.show()\n",
    "\n",
    "# Строим отдельные гистограммы\n",
    "data_smart['duration_total'].hist(alpha=0.5, figsize=(10,6), label='Smart', bins=30, color='g')\n",
    "plt.xlabel('Длительность звонков, минуты в месяц')\n",
    "plt.ylabel('Встречаемость')\n",
    "# Дабавляем лимит по тарифу на график. В данном случае считаю, что проще вручную,\n",
    "# чем делать ссылку на соответствующую таблицу\n",
    "plt.axvline(500, color='r',label='Limit')\n",
    "plt.legend()\n",
    "plt.title('Гистограмма для тарифа Smart')\n",
    "plt.show()\n",
    "\n",
    "data_ultra['duration_total'].hist(alpha=0.5, figsize=(16,6), label='Ultra', bins=30, color='b')\n",
    "plt.xlabel('Длительность звонков, минуты в месяц')\n",
    "plt.ylabel('Встречаемость')\n",
    "plt.axvline(3000, color='r',label='Limit')\n",
    "plt.legend()\n",
    "plt.title('Гистограмма для тарифа Ultra')\n",
    "plt.show()\n",
    "\n",
    "# Строим боксплоты. Для наглядности - горизонтальные.\n",
    "data_smart.boxplot(column='duration_total',vert=False,figsize=(10,2))\n",
    "plt.axvline(500, color='r')\n",
    "plt.title('Boxplot для тарифа Smart')\n",
    "plt.xlabel('Длительность звонков, минуты в месяц')\n",
    "plt.show()\n",
    "\n",
    "data_ultra.boxplot(column='duration_total',vert=False,figsize=(16,2))\n",
    "plt.axvline(3000, color='r')\n",
    "plt.title('Boxplot для тарифа Ultra')\n",
    "plt.xlabel('Длительность звонков, минуты в месяц')\n",
    "plt.show()\n",
    "\n",
    "# Считаем среднее, дисперсию и стандартное отклонение\n",
    "duration_smart_mean = data_smart['duration_total'].mean()\n",
    "duration_smart_variance = np.var(data_smart['duration_total'])\n",
    "duration_smart_stan_dev = np.sqrt(duration_smart_variance)\n",
    "\n",
    "duration_ultra_mean = data_ultra['duration_total'].mean()\n",
    "duration_ultra_variance = np.var(data_ultra['duration_total'])\n",
    "duration_ultra_stan_dev = np.sqrt(duration_ultra_variance)\n",
    "\n",
    "# Выводим результаты на печать\n",
    "print('Параметры длительности звонков для тарифа Смарт:')\n",
    "print(f'Среднее значение: {round(duration_smart_mean,2)}')\n",
    "print(f'Дисперсия: {round(duration_smart_variance,2)}')\n",
    "print(f'Стандартное отклонение: {round(duration_smart_stan_dev,2)}')\n",
    "print()\n",
    "print('Параметры длительности звонков для тарифа Ультра:')\n",
    "print(f'Среднее значение: {round(duration_ultra_mean,2)}')\n",
    "print(f'Дисперсия: {round(duration_ultra_variance,2)}')\n",
    "print(f'Стандартное отклонение: {round(duration_ultra_stan_dev,2)}')"
   ]
  },
  {
   "cell_type": "markdown",
   "metadata": {},
   "source": [
    "#### Выводы по длительности звонков:\n",
    "\n",
    "1. В случае обоих тарифов распределение длительности звонков похоже на нормальное. \n",
    "2. Оба распределения скошены в положительную сторону, причём в ультре скос более выраженный.\n",
    "3. В среднем пользователи Ультра говорят на 25% больше. \n",
    "4. В тарифе Смарт почти половина пользователей выговаривают лимит в 500 мин, в Ультре лимит выглядит избыточночным - никто из пользователей не потратил выделенные 3000 минут.\n",
    "5. Пользователи тарифа Ультра ведут себя более \"разнообразно\" - отклонение в их распределении больше."
   ]
  },
  {
   "cell_type": "markdown",
   "metadata": {},
   "source": [
    "### Количество звонков"
   ]
  },
  {
   "cell_type": "code",
   "execution_count": 977,
   "metadata": {},
   "outputs": [
    {
     "data": {
      "image/png": "[encoded data removed]",
      "text/plain": [
       "<Figure size 720x432 with 1 Axes>"
      ]
     },
     "metadata": {
      "needs_background": "light"
     },
     "output_type": "display_data"
    },
    {
     "data": {
      "image/png": "[encoded data removed]",
      "text/plain": [
       "<Figure size 720x432 with 1 Axes>"
      ]
     },
     "metadata": {
      "needs_background": "light"
     },
     "output_type": "display_data"
    },
    {
     "data": {
      "image/png": "[encoded data removed]",
      "text/plain": [
       "<Figure size 720x432 with 1 Axes>"
      ]
     },
     "metadata": {
      "needs_background": "light"
     },
     "output_type": "display_data"
    },
    {
     "data": {
      "image/png": "[encoded data removed]",
      "text/plain": [
       "<Figure size 720x144 with 1 Axes>"
      ]
     },
     "metadata": {
      "needs_background": "light"
     },
     "output_type": "display_data"
    },
    {
     "data": {
      "image/png": "[encoded data removed]",
      "text/plain": [
       "<Figure size 720x144 with 1 Axes>"
      ]
     },
     "metadata": {
      "needs_background": "light"
     },
     "output_type": "display_data"
    },
    {
     "name": "stdout",
     "output_type": "stream",
     "text": [
      "Параметры количества звонков для тарифа Смарт:\n",
      "Среднее значение: 47.12\n",
      "Дисперсия: 436.07\n",
      "Стандартное отклонение: 20.88\n",
      "\n",
      "Параметры количества звонков для тарифа Ультра:\n",
      "Среднее значение: 61.61\n",
      "Дисперсия: 1167.67\n",
      "Стандартное отклонение: 34.17\n"
     ]
    }
   ],
   "source": [
    "# Строим общую гистограмму\n",
    "data_smart['calls_total'].hist(alpha=0.5, figsize=(10,6), label='Smart', bins=30, color='g')\n",
    "data_ultra['calls_total'].hist(alpha=0.5, figsize=(10,6), label='Ultra', bins=30, color='b')\n",
    "plt.legend()\n",
    "plt.xlabel('Количество звонков, штук в месяц')\n",
    "plt.ylabel('Встречаемость')\n",
    "plt.title('Гистограмма для двух тарифов')\n",
    "plt.show()\n",
    "\n",
    "# Строим отдельные гистограммы\n",
    "data_smart['calls_total'].hist(alpha=0.5, figsize=(10,6), label='Smart', bins=30, color='g')\n",
    "plt.xlabel('Количество звонков, штук в месяц')\n",
    "plt.ylabel('Встречаемость')\n",
    "plt.legend()\n",
    "plt.title('Гистограмма для тарифа Smart')\n",
    "plt.show()\n",
    "\n",
    "data_ultra['calls_total'].hist(alpha=0.5, figsize=(10,6), label='Ultra', bins=30, color='b')\n",
    "plt.xlabel('Количество звонков, штук в месяц')\n",
    "plt.ylabel('Встречаемость')\n",
    "plt.legend()\n",
    "plt.title('Гистограмма для тарифа Ultra')\n",
    "plt.show()\n",
    "\n",
    "# Строим боксплоты. Для наглядности - горизонтальные.\n",
    "data_smart.boxplot(column='calls_total',vert=False,figsize=(10,2))\n",
    "plt.title('Boxplot для тарифа Smart')\n",
    "plt.xlabel('Количество звонков, штук в месяц')\n",
    "plt.show()\n",
    "\n",
    "data_ultra.boxplot(column='calls_total',vert=False,figsize=(10,2))\n",
    "plt.title('Boxplot для тарифа Ultra')\n",
    "plt.xlabel('Количество звонков, штук в месяц')\n",
    "plt.show()\n",
    "\n",
    "# Считаем среднее, дисперсию и стандартное отклонение\n",
    "calls_smart_mean = data_smart['calls_total'].mean()\n",
    "calls_smart_variance = np.var(data_smart['calls_total'])\n",
    "calls_smart_stan_dev = np.sqrt(calls_smart_variance)\n",
    "\n",
    "calls_ultra_mean = data_ultra['calls_total'].mean()\n",
    "calls_ultra_variance = np.var(data_ultra['calls_total'])\n",
    "calls_ultra_stan_dev = np.sqrt(calls_ultra_variance)\n",
    "\n",
    "# Выводим результаты на печать\n",
    "print('Параметры количества звонков для тарифа Смарт:')\n",
    "print(f'Среднее значение: {round(calls_smart_mean,2)}')\n",
    "print(f'Дисперсия: {round(calls_smart_variance,2)}')\n",
    "print(f'Стандартное отклонение: {round(calls_smart_stan_dev,2)}')\n",
    "print()\n",
    "print('Параметры количества звонков для тарифа Ультра:')\n",
    "print(f'Среднее значение: {round(calls_ultra_mean,2)}')\n",
    "print(f'Дисперсия: {round(calls_ultra_variance,2)}')\n",
    "print(f'Стандартное отклонение: {round(calls_ultra_stan_dev,2)}')"
   ]
  },
  {
   "cell_type": "markdown",
   "metadata": {},
   "source": [
    "#### Вывод по количеству звонков:\n",
    "\n",
    "1. В случае обоих тарифов распределение количества звонков похоже на нормальное. \n",
    "2. Оба распределения скошены в положительную сторону, причём в ультре скос более выраженный.\n",
    "3. В среднем пользователи Ультра совершают на 25% больше звонков. \n",
    "4. Пользователи тарифа Ультра ведут себя более \"разнообразно\" - согласно боксплоту есть значительное количество пользователей, совершающее более 150 звонков в месяц. Стандартное отклонение у Ультры выше в полтора раза."
   ]
  },
  {
   "cell_type": "markdown",
   "metadata": {},
   "source": [
    "### Количество смс-сообщений"
   ]
  },
  {
   "cell_type": "code",
   "execution_count": 978,
   "metadata": {},
   "outputs": [
    {
     "data": {
      "image/png": "[encoded data removed]",
      "text/plain": [
       "<Figure size 720x432 with 1 Axes>"
      ]
     },
     "metadata": {
      "needs_background": "light"
     },
     "output_type": "display_data"
    },
    {
     "data": {
      "image/png": "[encoded data removed]",
      "text/plain": [
       "<Figure size 720x432 with 1 Axes>"
      ]
     },
     "metadata": {
      "needs_background": "light"
     },
     "output_type": "display_data"
    },
    {
     "data": {
      "image/png": "[encoded data removed]",
      "text/plain": [
       "<Figure size 1152x432 with 1 Axes>"
      ]
     },
     "metadata": {
      "needs_background": "light"
     },
     "output_type": "display_data"
    },
    {
     "data": {
      "image/png": "[encoded data removed]",
      "text/plain": [
       "<Figure size 720x144 with 1 Axes>"
      ]
     },
     "metadata": {
      "needs_background": "light"
     },
     "output_type": "display_data"
    },
    {
     "data": {
      "image/png": "[encoded data removed]",
      "text/plain": [
       "<Figure size 1152x144 with 1 Axes>"
      ]
     },
     "metadata": {
      "needs_background": "light"
     },
     "output_type": "display_data"
    },
    {
     "name": "stdout",
     "output_type": "stream",
     "text": [
      "Параметры количества сообщений для тарифа Смарт:\n",
      "Среднее значение: 33.39\n",
      "Медиана: 28.0\n",
      "Дисперсия: 798.85\n",
      "Стандартное отклонение: 28.26\n",
      "\n",
      "Параметры количества сообщений для тарифа Ультра:\n",
      "Среднее значение: 48.76\n",
      "Медиана: 39.0\n",
      "Дисперсия: 2169.43\n",
      "Стандартное отклонение: 46.58\n"
     ]
    }
   ],
   "source": [
    "# Строим общую гистограмму\n",
    "data_smart['sms_total'].hist(alpha=0.5, figsize=(10,6), label='Smart', bins=30, color='g')\n",
    "data_ultra['sms_total'].hist(alpha=0.5, figsize=(10,6), label='Ultra', bins=30, color='b')\n",
    "plt.legend()\n",
    "plt.xlabel('Количество сообщений, штук в месяц')\n",
    "plt.ylabel('Встречаемость')\n",
    "plt.title('Гистограмма для двух тарифов')\n",
    "plt.show()\n",
    "\n",
    "# Строим отдельные гистограммы\n",
    "data_smart['sms_total'].hist(alpha=0.5, figsize=(10,6), label='Smart', bins=30, color='g')\n",
    "plt.xlabel('Количество сообщений, штук в месяц')\n",
    "plt.ylabel('Встречаемость')\n",
    "# Дабавляем лимит по тарифу на график. В данном случае считаю, что проще вручную,\n",
    "# чем делать ссылку на соответствующую таблицу\n",
    "plt.axvline(50, color='r',label='Limit')\n",
    "plt.legend()\n",
    "plt.title('Гистограмма для тарифа Smart')\n",
    "plt.show()\n",
    "\n",
    "data_ultra['sms_total'].hist(alpha=0.5, figsize=(16,6), label='Ultra', bins=30, color='b')\n",
    "plt.xlabel('Количество сообщений, штук в месяц')\n",
    "plt.ylabel('Встречаемость')\n",
    "plt.axvline(1000, color='r',label='Limit')\n",
    "plt.legend()\n",
    "plt.title('Гистограмма для тарифа Ultra')\n",
    "plt.show()\n",
    "\n",
    "# Строим боксплоты. Для наглядности - горизонтальные.\n",
    "data_smart.boxplot(column='sms_total',vert=False,figsize=(10,2))\n",
    "plt.axvline(50, color='r')\n",
    "plt.xlabel('Количество сообщений, штук в месяц')\n",
    "plt.title('Boxplot для тарифа Smart')\n",
    "plt.show()\n",
    "\n",
    "data_ultra.boxplot(column='sms_total',vert=False,figsize=(16,2))\n",
    "plt.axvline(1000, color='r')\n",
    "plt.title('Boxplot для тарифа Ultra')\n",
    "plt.xlabel('Количество сообщений, штук в месяц')\n",
    "plt.show()\n",
    "\n",
    "# Считаем среднее, дисперсию и стандартное отклонение, в данном случае так же добавим медиану\n",
    "sms_smart_mean = data_smart['sms_total'].mean()\n",
    "sms_smart_median = data_smart['sms_total'].median()\n",
    "sms_smart_variance = np.var(data_smart['sms_total'])\n",
    "sms_smart_stan_dev = np.sqrt(sms_smart_variance)\n",
    "\n",
    "sms_ultra_mean = data_ultra['sms_total'].mean()\n",
    "sms_ultra_median = data_ultra['sms_total'].median()\n",
    "sms_ultra_variance = np.var(data_ultra['sms_total'])\n",
    "sms_ultra_stan_dev = np.sqrt(sms_ultra_variance)\n",
    "\n",
    "# Выводим результаты на печать\n",
    "print('Параметры количества сообщений для тарифа Смарт:')\n",
    "print(f'Среднее значение: {round(sms_smart_mean,2)}')\n",
    "print(f'Медиана: {round(sms_smart_median,2)}')\n",
    "print(f'Дисперсия: {round(sms_smart_variance,2)}')\n",
    "print(f'Стандартное отклонение: {round(sms_smart_stan_dev,2)}')\n",
    "print()\n",
    "print('Параметры количества сообщений для тарифа Ультра:')\n",
    "print(f'Среднее значение: {round(sms_ultra_mean,2)}')\n",
    "print(f'Медиана: {round(sms_ultra_median,2)}')\n",
    "print(f'Дисперсия: {round(sms_ultra_variance,2)}')\n",
    "print(f'Стандартное отклонение: {round(sms_ultra_stan_dev,2)}')"
   ]
  },
  {
   "cell_type": "markdown",
   "metadata": {},
   "source": [
    "#### Вывод по количеству сообщений:\n",
    "\n",
    "1. СМС-сообщение постепенно перестают терять популярность - значительное количество пользователей обоих тарифов пользуются ими минимально либо не пользуются вообще.\n",
    "2. Распределения вряд ли можно охарактеризовать, как нормальные. Ближе к распределению Пуассона. \n",
    "3. В среднем, пользователи Ультра отправляют в полтора раза больше сообщений.\n",
    "4. Вновь пользователи Ультра ведут себя более разнообразно, отклонение выше в полтора раза.\n",
    "5. Больше половины пользователей Смарт укладываются в заданный лимит в 50 сообщений, но весомая часть его превышает.\n",
    "6. Лимит в 1000 сообщений в случае Ультра выглядит совершенно ненужным. На боксплоте это видно наглядно."
   ]
  },
  {
   "cell_type": "markdown",
   "metadata": {},
   "source": [
    "### Интернет-трафик"
   ]
  },
  {
   "cell_type": "code",
   "execution_count": 979,
   "metadata": {},
   "outputs": [
    {
     "data": {
      "image/png": "[encoded data removed]",
      "text/plain": [
       "<Figure size 720x432 with 1 Axes>"
      ]
     },
     "metadata": {
      "needs_background": "light"
     },
     "output_type": "display_data"
    },
    {
     "data": {
      "image/png": "[encoded data removed]",
      "text/plain": [
       "<Figure size 720x432 with 1 Axes>"
      ]
     },
     "metadata": {
      "needs_background": "light"
     },
     "output_type": "display_data"
    },
    {
     "data": {
      "image/png": "[encoded data removed]",
      "text/plain": [
       "<Figure size 936x432 with 1 Axes>"
      ]
     },
     "metadata": {
      "needs_background": "light"
     },
     "output_type": "display_data"
    },
    {
     "data": {
      "image/png": "[encoded data removed]",
      "text/plain": [
       "<Figure size 720x144 with 1 Axes>"
      ]
     },
     "metadata": {
      "needs_background": "light"
     },
     "output_type": "display_data"
    },
    {
     "data": {
      "image/png": "[encoded data removed]",
      "text/plain": [
       "<Figure size 936x144 with 1 Axes>"
      ]
     },
     "metadata": {
      "needs_background": "light"
     },
     "output_type": "display_data"
    },
    {
     "name": "stdout",
     "output_type": "stream",
     "text": [
      "Параметры интернет-трафика для тарифа Смарт:\n",
      "Среднее значение: 16231.46\n",
      "Медиана: 16527.0\n",
      "Дисперсия: 34599364.85\n",
      "Стандартное отклонение: 5882.12\n",
      "\n",
      "Параметры интернет-трафика для тарифа Ультра:\n",
      "Среднее значение: 19489.67\n",
      "Медиана: 19335.0\n",
      "Дисперсия: 102650986.32\n",
      "Стандартное отклонение: 10131.68\n"
     ]
    }
   ],
   "source": [
    "# Строим общую гистограмму\n",
    "data_smart['mb_used'].hist(alpha=0.5, figsize=(10,6), label='Smart', bins=30, color='g')\n",
    "data_ultra['mb_used'].hist(alpha=0.5, figsize=(10,6), label='Ultra', bins=30, color='b')\n",
    "plt.legend()\n",
    "plt.xlabel('Интернет-трафик, мб в месяц')\n",
    "plt.ylabel('Встречаемость')\n",
    "plt.title('Гистограмма для двух тарифов')\n",
    "plt.show()\n",
    "\n",
    "# Строим отдельные гистограммы\n",
    "data_smart['mb_used'].hist(alpha=0.5, figsize=(10,6), label='Smart', bins=30, color='g')\n",
    "plt.xlabel('Интернет-трафик, мб в месяц')\n",
    "plt.ylabel('Встречаемость')\n",
    "# Дабавляем лимит по тарифу на график. В данном случае считаю, что проще вручную,\n",
    "# чем делать ссылку на соответствующую таблицу\n",
    "plt.axvline(15360, color='r',label='Limit')\n",
    "plt.legend()\n",
    "plt.title('Гистограмма для тарифа Smart')\n",
    "plt.show()\n",
    "\n",
    "data_ultra['mb_used'].hist(alpha=0.5, figsize=(13,6), label='Ultra', bins=30, color='b')\n",
    "plt.xlabel('Интернет-трафик, мб в месяц')\n",
    "plt.ylabel('Встречаемость')\n",
    "plt.axvline(30720, color='r',label='Limit')\n",
    "plt.legend()\n",
    "plt.title('Гистограмма для тарифа Ultra')\n",
    "plt.show()\n",
    "\n",
    "# Строим боксплоты. Для наглядности - горизонтальные.\n",
    "data_smart.boxplot(column='mb_used',vert=False,figsize=(10,2))\n",
    "plt.axvline(15360, color='r')\n",
    "plt.title('Boxplot для тарифа Smart')\n",
    "plt.xlabel('Интернет-трафик, мб в месяц')\n",
    "plt.show()\n",
    "\n",
    "data_ultra.boxplot(column='mb_used',vert=False,figsize=(13,2))\n",
    "plt.axvline(30720, color='r')\n",
    "plt.title('Boxplot для тарифа Ultra')\n",
    "plt.xlabel('Интернет-трафик, мб в месяц')\n",
    "plt.show()\n",
    "\n",
    "# Считаем среднее, дисперсию и стандартное отклонение, в данном случае так же добавим медиану\n",
    "traffic_smart_mean = data_smart['mb_used'].mean()\n",
    "traffic_smart_median = data_smart['mb_used'].median()\n",
    "traffic_smart_variance = np.var(data_smart['mb_used'])\n",
    "traffic_smart_stan_dev = np.sqrt(traffic_smart_variance)\n",
    "\n",
    "traffic_ultra_mean = data_ultra['mb_used'].mean()\n",
    "traffic_ultra_median = data_ultra['mb_used'].median()\n",
    "traffic_ultra_variance = np.var(data_ultra['mb_used'])\n",
    "traffic_ultra_stan_dev = np.sqrt(traffic_ultra_variance)\n",
    "\n",
    "# Выводим результаты на печать\n",
    "print('Параметры интернет-трафика для тарифа Смарт:')\n",
    "print(f'Среднее значение: {round(traffic_smart_mean,2)}')\n",
    "print(f'Медиана: {round(traffic_smart_median,2)}')\n",
    "print(f'Дисперсия: {round(traffic_smart_variance,2)}')\n",
    "print(f'Стандартное отклонение: {round(traffic_smart_stan_dev,2)}')\n",
    "print()\n",
    "print('Параметры интернет-трафика для тарифа Ультра:')\n",
    "print(f'Среднее значение: {round(traffic_ultra_mean,2)}')\n",
    "print(f'Медиана: {round(traffic_ultra_median,2)}')\n",
    "print(f'Дисперсия: {round(traffic_ultra_variance,2)}')\n",
    "print(f'Стандартное отклонение: {round(traffic_ultra_stan_dev,2)}')"
   ]
  },
  {
   "cell_type": "markdown",
   "metadata": {},
   "source": [
    "#### Вывод по интернет-трафику:\n",
    "\n",
    "1. Оба распределения нормальные, у Смарта более выраженное (медиана почти равна среднему)- стандартное отклонение меньше вдвое в сравнении с Ультра.\n",
    "2. Пользователи Ультра расходуют примерно на 20% больше трафика.\n",
    "3. Большинство пользователей Смарт превышают лимит в 15 гб.\n",
    "4. Большинство пользователей Ультра укладываются в лимитированные 30 гб, но весомая часть превышает."
   ]
  },
  {
   "cell_type": "markdown",
   "metadata": {},
   "source": [
    "### Вывод по анализу данных (Шагу 3)\n",
    "\n",
    "1. Поведение пользователей Смарт ближе к нормальному распределению.\n",
    "2. Пользователи Ультра расходуют минуты, интернет и сообщения на 20..25% активнее пользователей Смарт.\n",
    "3. Пользователи Ультра ведут себя более разнообразно. Многие пользователи не используют весь потенциал тарифа и, возможно, им было бы достаточно лимитов Смарта, но есть пользователи, для которых большие пакеты действительно нужны.\n",
    "4. Наиболее активно с точки зрения превышения лимитов люди пользуются интернетом. Вероятно, для телеком компании этот параметр и является основным источником дохода сверх абонентской платы."
   ]
  },
  {
   "cell_type": "markdown",
   "metadata": {},
   "source": [
    "### Проверка гипотез (Шаг 4)"
   ]
  },
  {
   "cell_type": "markdown",
   "metadata": {},
   "source": [
    "#### Средняя выручка Ультра и Смарт"
   ]
  },
  {
   "cell_type": "code",
   "execution_count": 980,
   "metadata": {},
   "outputs": [
    {
     "data": {
      "image/png": "[encoded data removed]",
      "text/plain": [
       "<Figure size 1152x432 with 1 Axes>"
      ]
     },
     "metadata": {
      "needs_background": "light"
     },
     "output_type": "display_data"
    },
    {
     "data": {
      "image/png": "[encoded data removed]",
      "text/plain": [
       "<Figure size 1152x144 with 1 Axes>"
      ]
     },
     "metadata": {
      "needs_background": "light"
     },
     "output_type": "display_data"
    },
    {
     "data": {
      "image/png": "[encoded data removed]",
      "text/plain": [
       "<Figure size 1152x144 with 1 Axes>"
      ]
     },
     "metadata": {
      "needs_background": "light"
     },
     "output_type": "display_data"
    }
   ],
   "source": [
    "smart_income = data_smart['income']\n",
    "ultra_income = data_ultra['income']\n",
    "\n",
    "smart_income.hist(alpha=0.5, figsize=(16,6), label='Smart', bins=30, color='g')\n",
    "ultra_income.hist(alpha=0.5, figsize=(16,6), label='Ultra', bins=30, color='b')\n",
    "plt.legend()\n",
    "plt.xlabel('Выручка в месяц')\n",
    "plt.ylabel('Встречаемость')\n",
    "plt.title('Гистограмма выручки для двух тарифов')\n",
    "plt.show()\n",
    "\n",
    "# Строим боксплоты. Для наглядности - горизонтальные.\n",
    "data_smart.boxplot(column='income',vert=False,figsize=(16,2))\n",
    "plt.xlim(0,5000)\n",
    "plt.title('Boxplot для тарифа Smart')\n",
    "plt.xlabel('Выручка в месяц')\n",
    "plt.show()\n",
    "\n",
    "data_ultra.boxplot(column='income',vert=False,figsize=(16,2))\n",
    "plt.xlim(0,5000)\n",
    "plt.title('Boxplot для тарифа Ultra')\n",
    "plt.xlabel('Выручка в месяц')\n",
    "plt.show()"
   ]
  },
  {
   "cell_type": "code",
   "execution_count": 981,
   "metadata": {},
   "outputs": [
    {
     "name": "stdout",
     "output_type": "stream",
     "text": [
      "Дисперсия по тарифу Смарт равна 621610.21\n",
      "Дисперсия по тарифу Ультра равна 129569.86\n"
     ]
    }
   ],
   "source": [
    "# Проверим соотношение дисперсий этих выборок\n",
    "income_smart_variance = np.var(data_smart['income'])\n",
    "income_ultra_variance = np.var(data_ultra['income'])\n",
    "print(f'Дисперсия по тарифу Смарт равна {round(income_smart_variance,2)}')\n",
    "print(f'Дисперсия по тарифу Ультра равна {round(income_ultra_variance,2)}')"
   ]
  },
  {
   "cell_type": "code",
   "execution_count": 982,
   "metadata": {},
   "outputs": [
    {
     "name": "stdout",
     "output_type": "stream",
     "text": [
      "p-значение: 2.2270215415187496e-289\n",
      "Отвергаем нулевую гипотезу\n"
     ]
    }
   ],
   "source": [
    "# Примем нулевую гипотезу о равенстве двух средних, при её отвержении будем считать средние различающимися\n",
    "# Альфу принимаем 0.05 как для двухсторонней гипотезы\n",
    "\n",
    "alpha = 0.05 \n",
    "\n",
    "results = st.ttest_ind(\n",
    "    smart_income, \n",
    "    ultra_income, \n",
    "#     Дисперсии различаются, поэтому:\n",
    "    equal_var = False)\n",
    "\n",
    "print('p-значение:', results.pvalue) \n",
    "\n",
    "if (results.pvalue < alpha):\n",
    "    print(\"Отвергаем нулевую гипотезу\")\n",
    "else:\n",
    "    print(\"Не получилось отвергнуть нулевую гипотезу\")"
   ]
  },
  {
   "cell_type": "markdown",
   "metadata": {},
   "source": [
    "Нулевая гипотеза о равенстве средних выручек по тарифам Смарт и Ультра отвергнута. Это подтверждается графиками - выручка тарифа Ультра значительно выше."
   ]
  },
  {
   "cell_type": "markdown",
   "metadata": {},
   "source": [
    "#### Средняя выручка Москвы и регионов"
   ]
  },
  {
   "cell_type": "code",
   "execution_count": 983,
   "metadata": {},
   "outputs": [
    {
     "data": {
      "image/png": "[encoded data removed]",
      "text/plain": [
       "<Figure size 1152x432 with 1 Axes>"
      ]
     },
     "metadata": {
      "needs_background": "light"
     },
     "output_type": "display_data"
    },
    {
     "data": {
      "image/png": "[encoded data removed]",
      "text/plain": [
       "<Figure size 1152x144 with 1 Axes>"
      ]
     },
     "metadata": {
      "needs_background": "light"
     },
     "output_type": "display_data"
    },
    {
     "data": {
      "image/png": "[encoded data removed]",
      "text/plain": [
       "<Figure size 1152x144 with 1 Axes>"
      ]
     },
     "metadata": {
      "needs_background": "light"
     },
     "output_type": "display_data"
    }
   ],
   "source": [
    "moscow = data.query('city == \"Москва\"')\n",
    "regions = data.query('city != \"Москва\"')\n",
    "\n",
    "moscow_income = moscow['income']\n",
    "regions_income = regions['income']\n",
    "\n",
    "moscow_income.hist(alpha=0.75, figsize=(16,6), label='Moscow', bins=30, color='r')\n",
    "regions_income.hist(alpha=0.5, figsize=(16,6), label='Regions', bins=30, color='b')\n",
    "plt.legend()\n",
    "plt.xlabel('Выручка в месяц')\n",
    "plt.ylabel('Встречаемость')\n",
    "plt.title('Гистограмма выручки для Москвы и регионов')\n",
    "plt.show()\n",
    "\n",
    "# Строим боксплоты. Для наглядности - горизонтальные.\n",
    "moscow.boxplot(column='income',vert=False,figsize=(16,2))\n",
    "plt.xlim(0,5000)\n",
    "plt.title('Boxplot для тарифа Smart')\n",
    "plt.xlabel('Выручка в месяц')\n",
    "plt.show()\n",
    "\n",
    "regions.boxplot(column='income',vert=False,figsize=(16,2))\n",
    "plt.xlim(0,5000)\n",
    "plt.title('Boxplot для тарифа Ultra')\n",
    "plt.xlabel('Выручка в месяц')\n",
    "plt.show()"
   ]
  },
  {
   "cell_type": "code",
   "execution_count": 984,
   "metadata": {},
   "outputs": [
    {
     "name": "stdout",
     "output_type": "stream",
     "text": [
      "Дисперсия по Москве равна 546920.9\n",
      "Дисперсия по регионам равна 634796.0\n"
     ]
    }
   ],
   "source": [
    "income_moscow_variance = np.var(moscow_income)\n",
    "income_regions_variance = np.var(regions_income)\n",
    "print(f'Дисперсия по Москве равна {round(income_moscow_variance,2)}')\n",
    "print(f'Дисперсия по регионам равна {round(income_regions_variance,2)}')"
   ]
  },
  {
   "cell_type": "code",
   "execution_count": 985,
   "metadata": {},
   "outputs": [
    {
     "name": "stdout",
     "output_type": "stream",
     "text": [
      "p-значение: 0.38741872566119906\n",
      "Не получилось отвергнуть нулевую гипотезу\n"
     ]
    }
   ],
   "source": [
    "alpha = 0.05 \n",
    "\n",
    "results = st.ttest_ind(\n",
    "    moscow_income, \n",
    "    regions_income, \n",
    "#     Здесь дисперсии близки, поэтому:\n",
    "    equal_var = True)\n",
    "\n",
    "print('p-значение:', results.pvalue) \n",
    "\n",
    "if (results.pvalue < alpha):\n",
    "    print(\"Отвергаем нулевую гипотезу\")\n",
    "else:\n",
    "    print(\"Не получилось отвергнуть нулевую гипотезу\")"
   ]
  },
  {
   "cell_type": "markdown",
   "metadata": {},
   "source": [
    "Гипотеза о равенстве средних выручек в Москве и регоинах не была отвержена. Проверим равенство среднего по регионам среднему по Москве методом сравнения с числом."
   ]
  },
  {
   "cell_type": "code",
   "execution_count": 986,
   "metadata": {},
   "outputs": [
    {
     "name": "stdout",
     "output_type": "stream",
     "text": [
      "p-значение:  0.05203444014491089\n",
      "Не получилось отвергнуть нулевую гипотезу\n"
     ]
    }
   ],
   "source": [
    "# За сравниваемое число примем среднюю выручку по Москве\n",
    "mean_value = moscow_income.mean()\n",
    "\n",
    "alpha = 0.05\n",
    "\n",
    "results = st.ttest_1samp(\n",
    "    regions_income, \n",
    "    mean_value)\n",
    "\n",
    "print('p-значение: ', results.pvalue) # введите ваш код тут)\n",
    "\n",
    "if (results.pvalue < alpha) :# введите ваш код тут):\n",
    "    print(\"Отвергаем нулевую гипотезу\")\n",
    "else:\n",
    "    print(\"Не получилось отвергнуть нулевую гипотезу\")"
   ]
  },
  {
   "cell_type": "markdown",
   "metadata": {},
   "source": [
    "Гипотеза вновь не отвержена. Таким образом, считаем средние выручки по Москве и регионам равными с допустимой погрешностью, что подтверждается графиками."
   ]
  },
  {
   "cell_type": "markdown",
   "metadata": {},
   "source": [
    "### Вывод по проверке гипотез (Шагу 4)\n",
    "\n",
    "1. Средняя выручка Ультра и Смарт различается - подтверждено.\n",
    "2. Средняя выручка по Москве и регионам различиается - не подтверждено."
   ]
  },
  {
   "cell_type": "markdown",
   "metadata": {},
   "source": [
    "## Общий вывод\n",
    "\n",
    "В ходе работы над проектом проделаны следующие этапы:\n",
    "1. Импортированы данные из нескольких датасетов.\n",
    "2. Данные обработаны, создана сводная таблица, посчитаны недостающие параметры.\n",
    "3. Изучены параметры: длительность и количество звонков, количество сообщений и потраченный трафик каждым пользователем помесячно.\n",
    "4. Изучены средние выручки по разным тарифам и по разным регионам.\n",
    "\n",
    "Сделаны следующие выводы:\n",
    "1. Наиболее расходуемым элементом тарифных пакетов является интернет-трафик.\n",
    "2. Сообщения востребованы пользователями в меньшей степени.\n",
    "3. В целом, пользователи тарифа Ультра расходуют больше интернета, минут и сообщений, однако эта разница непропорциональна лимитам тарифа и разнице в абонентской плате.\n",
    "4. С точки зрения средней выручки тариф Ультра является более выгодным для Телеком-компании.\n",
    "5. Средняя выручка по Москве и регионам различается незначительно."
   ]
  }
 ],
 "metadata": {
  "kernelspec": {
   "display_name": "Python 3",
   "language": "python",
   "name": "python3"
  },
  "language_info": {
   "codemirror_mode": {
    "name": "ipython",
    "version": 3
   },
   "file_extension": ".py",
   "mimetype": "text/x-python",
   "name": "python",
   "nbconvert_exporter": "python",
   "pygments_lexer": "ipython3",
   "version": "3.7.6"
  }
 },
 "nbformat": 4,
 "nbformat_minor": 4
}
